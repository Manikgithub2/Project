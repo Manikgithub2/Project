{
 "cells": [
  {
   "cell_type": "code",
   "execution_count": 10,
   "id": "1bb4f241",
   "metadata": {},
   "outputs": [],
   "source": [
    "# importing files\n",
    "import pandas as pd\n",
    "import numpy as np\n",
    "import seaborn as sns\n",
    "import matplotlib.pyplot as plt"
   ]
  },
  {
   "cell_type": "code",
   "execution_count": 2,
   "id": "80bd2b15",
   "metadata": {},
   "outputs": [],
   "source": [
    "# import data set\n",
    "df=pd.read_csv('ipl_data.csv')"
   ]
  },
  {
   "cell_type": "code",
   "execution_count": 5,
   "id": "3404652d",
   "metadata": {},
   "outputs": [
    {
     "data": {
      "text/plain": [
       "(76014, 15)"
      ]
     },
     "execution_count": 5,
     "metadata": {},
     "output_type": "execute_result"
    }
   ],
   "source": [
    "df.shape"
   ]
  },
  {
   "cell_type": "markdown",
   "id": "ec252ce7",
   "metadata": {},
   "source": [
    "# exploratory data anlysis"
   ]
  },
  {
   "cell_type": "code",
   "execution_count": 6,
   "id": "eb67042c",
   "metadata": {},
   "outputs": [
    {
     "data": {
      "text/html": [
       "<div>\n",
       "<style scoped>\n",
       "    .dataframe tbody tr th:only-of-type {\n",
       "        vertical-align: middle;\n",
       "    }\n",
       "\n",
       "    .dataframe tbody tr th {\n",
       "        vertical-align: top;\n",
       "    }\n",
       "\n",
       "    .dataframe thead th {\n",
       "        text-align: right;\n",
       "    }\n",
       "</style>\n",
       "<table border=\"1\" class=\"dataframe\">\n",
       "  <thead>\n",
       "    <tr style=\"text-align: right;\">\n",
       "      <th></th>\n",
       "      <th>mid</th>\n",
       "      <th>date</th>\n",
       "      <th>venue</th>\n",
       "      <th>bat_team</th>\n",
       "      <th>bowl_team</th>\n",
       "      <th>batsman</th>\n",
       "      <th>bowler</th>\n",
       "      <th>runs</th>\n",
       "      <th>wickets</th>\n",
       "      <th>overs</th>\n",
       "      <th>runs_last_5</th>\n",
       "      <th>wickets_last_5</th>\n",
       "      <th>striker</th>\n",
       "      <th>non-striker</th>\n",
       "      <th>total</th>\n",
       "    </tr>\n",
       "  </thead>\n",
       "  <tbody>\n",
       "    <tr>\n",
       "      <th>0</th>\n",
       "      <td>1</td>\n",
       "      <td>2008-04-18</td>\n",
       "      <td>M Chinnaswamy Stadium</td>\n",
       "      <td>Kolkata Knight Riders</td>\n",
       "      <td>Royal Challengers Bangalore</td>\n",
       "      <td>SC Ganguly</td>\n",
       "      <td>P Kumar</td>\n",
       "      <td>1</td>\n",
       "      <td>0</td>\n",
       "      <td>0.1</td>\n",
       "      <td>1</td>\n",
       "      <td>0</td>\n",
       "      <td>0</td>\n",
       "      <td>0</td>\n",
       "      <td>222</td>\n",
       "    </tr>\n",
       "    <tr>\n",
       "      <th>1</th>\n",
       "      <td>1</td>\n",
       "      <td>2008-04-18</td>\n",
       "      <td>M Chinnaswamy Stadium</td>\n",
       "      <td>Kolkata Knight Riders</td>\n",
       "      <td>Royal Challengers Bangalore</td>\n",
       "      <td>BB McCullum</td>\n",
       "      <td>P Kumar</td>\n",
       "      <td>1</td>\n",
       "      <td>0</td>\n",
       "      <td>0.2</td>\n",
       "      <td>1</td>\n",
       "      <td>0</td>\n",
       "      <td>0</td>\n",
       "      <td>0</td>\n",
       "      <td>222</td>\n",
       "    </tr>\n",
       "    <tr>\n",
       "      <th>2</th>\n",
       "      <td>1</td>\n",
       "      <td>2008-04-18</td>\n",
       "      <td>M Chinnaswamy Stadium</td>\n",
       "      <td>Kolkata Knight Riders</td>\n",
       "      <td>Royal Challengers Bangalore</td>\n",
       "      <td>BB McCullum</td>\n",
       "      <td>P Kumar</td>\n",
       "      <td>2</td>\n",
       "      <td>0</td>\n",
       "      <td>0.2</td>\n",
       "      <td>2</td>\n",
       "      <td>0</td>\n",
       "      <td>0</td>\n",
       "      <td>0</td>\n",
       "      <td>222</td>\n",
       "    </tr>\n",
       "    <tr>\n",
       "      <th>3</th>\n",
       "      <td>1</td>\n",
       "      <td>2008-04-18</td>\n",
       "      <td>M Chinnaswamy Stadium</td>\n",
       "      <td>Kolkata Knight Riders</td>\n",
       "      <td>Royal Challengers Bangalore</td>\n",
       "      <td>BB McCullum</td>\n",
       "      <td>P Kumar</td>\n",
       "      <td>2</td>\n",
       "      <td>0</td>\n",
       "      <td>0.3</td>\n",
       "      <td>2</td>\n",
       "      <td>0</td>\n",
       "      <td>0</td>\n",
       "      <td>0</td>\n",
       "      <td>222</td>\n",
       "    </tr>\n",
       "    <tr>\n",
       "      <th>4</th>\n",
       "      <td>1</td>\n",
       "      <td>2008-04-18</td>\n",
       "      <td>M Chinnaswamy Stadium</td>\n",
       "      <td>Kolkata Knight Riders</td>\n",
       "      <td>Royal Challengers Bangalore</td>\n",
       "      <td>BB McCullum</td>\n",
       "      <td>P Kumar</td>\n",
       "      <td>2</td>\n",
       "      <td>0</td>\n",
       "      <td>0.4</td>\n",
       "      <td>2</td>\n",
       "      <td>0</td>\n",
       "      <td>0</td>\n",
       "      <td>0</td>\n",
       "      <td>222</td>\n",
       "    </tr>\n",
       "  </tbody>\n",
       "</table>\n",
       "</div>"
      ],
      "text/plain": [
       "   mid        date                  venue               bat_team  \\\n",
       "0    1  2008-04-18  M Chinnaswamy Stadium  Kolkata Knight Riders   \n",
       "1    1  2008-04-18  M Chinnaswamy Stadium  Kolkata Knight Riders   \n",
       "2    1  2008-04-18  M Chinnaswamy Stadium  Kolkata Knight Riders   \n",
       "3    1  2008-04-18  M Chinnaswamy Stadium  Kolkata Knight Riders   \n",
       "4    1  2008-04-18  M Chinnaswamy Stadium  Kolkata Knight Riders   \n",
       "\n",
       "                     bowl_team      batsman   bowler  runs  wickets  overs  \\\n",
       "0  Royal Challengers Bangalore   SC Ganguly  P Kumar     1        0    0.1   \n",
       "1  Royal Challengers Bangalore  BB McCullum  P Kumar     1        0    0.2   \n",
       "2  Royal Challengers Bangalore  BB McCullum  P Kumar     2        0    0.2   \n",
       "3  Royal Challengers Bangalore  BB McCullum  P Kumar     2        0    0.3   \n",
       "4  Royal Challengers Bangalore  BB McCullum  P Kumar     2        0    0.4   \n",
       "\n",
       "   runs_last_5  wickets_last_5  striker  non-striker  total  \n",
       "0            1               0        0            0    222  \n",
       "1            1               0        0            0    222  \n",
       "2            2               0        0            0    222  \n",
       "3            2               0        0            0    222  \n",
       "4            2               0        0            0    222  "
      ]
     },
     "execution_count": 6,
     "metadata": {},
     "output_type": "execute_result"
    }
   ],
   "source": [
    "df.head()"
   ]
  },
  {
   "cell_type": "code",
   "execution_count": 7,
   "id": "1a5dcca5",
   "metadata": {},
   "outputs": [
    {
     "data": {
      "text/html": [
       "<div>\n",
       "<style scoped>\n",
       "    .dataframe tbody tr th:only-of-type {\n",
       "        vertical-align: middle;\n",
       "    }\n",
       "\n",
       "    .dataframe tbody tr th {\n",
       "        vertical-align: top;\n",
       "    }\n",
       "\n",
       "    .dataframe thead th {\n",
       "        text-align: right;\n",
       "    }\n",
       "</style>\n",
       "<table border=\"1\" class=\"dataframe\">\n",
       "  <thead>\n",
       "    <tr style=\"text-align: right;\">\n",
       "      <th></th>\n",
       "      <th>mid</th>\n",
       "      <th>runs</th>\n",
       "      <th>wickets</th>\n",
       "      <th>overs</th>\n",
       "      <th>runs_last_5</th>\n",
       "      <th>wickets_last_5</th>\n",
       "      <th>striker</th>\n",
       "      <th>non-striker</th>\n",
       "      <th>total</th>\n",
       "    </tr>\n",
       "  </thead>\n",
       "  <tbody>\n",
       "    <tr>\n",
       "      <th>count</th>\n",
       "      <td>76014.000000</td>\n",
       "      <td>76014.000000</td>\n",
       "      <td>76014.000000</td>\n",
       "      <td>76014.000000</td>\n",
       "      <td>76014.000000</td>\n",
       "      <td>76014.000000</td>\n",
       "      <td>76014.000000</td>\n",
       "      <td>76014.000000</td>\n",
       "      <td>76014.000000</td>\n",
       "    </tr>\n",
       "    <tr>\n",
       "      <th>mean</th>\n",
       "      <td>308.627740</td>\n",
       "      <td>74.889349</td>\n",
       "      <td>2.415844</td>\n",
       "      <td>9.783068</td>\n",
       "      <td>33.216434</td>\n",
       "      <td>1.120307</td>\n",
       "      <td>24.962283</td>\n",
       "      <td>8.869287</td>\n",
       "      <td>160.901452</td>\n",
       "    </tr>\n",
       "    <tr>\n",
       "      <th>std</th>\n",
       "      <td>178.156878</td>\n",
       "      <td>48.823327</td>\n",
       "      <td>2.015207</td>\n",
       "      <td>5.772587</td>\n",
       "      <td>14.914174</td>\n",
       "      <td>1.053343</td>\n",
       "      <td>20.079752</td>\n",
       "      <td>10.795742</td>\n",
       "      <td>29.246231</td>\n",
       "    </tr>\n",
       "    <tr>\n",
       "      <th>min</th>\n",
       "      <td>1.000000</td>\n",
       "      <td>0.000000</td>\n",
       "      <td>0.000000</td>\n",
       "      <td>0.000000</td>\n",
       "      <td>0.000000</td>\n",
       "      <td>0.000000</td>\n",
       "      <td>0.000000</td>\n",
       "      <td>0.000000</td>\n",
       "      <td>67.000000</td>\n",
       "    </tr>\n",
       "    <tr>\n",
       "      <th>25%</th>\n",
       "      <td>154.000000</td>\n",
       "      <td>34.000000</td>\n",
       "      <td>1.000000</td>\n",
       "      <td>4.600000</td>\n",
       "      <td>24.000000</td>\n",
       "      <td>0.000000</td>\n",
       "      <td>10.000000</td>\n",
       "      <td>1.000000</td>\n",
       "      <td>142.000000</td>\n",
       "    </tr>\n",
       "    <tr>\n",
       "      <th>50%</th>\n",
       "      <td>308.000000</td>\n",
       "      <td>70.000000</td>\n",
       "      <td>2.000000</td>\n",
       "      <td>9.600000</td>\n",
       "      <td>34.000000</td>\n",
       "      <td>1.000000</td>\n",
       "      <td>20.000000</td>\n",
       "      <td>5.000000</td>\n",
       "      <td>162.000000</td>\n",
       "    </tr>\n",
       "    <tr>\n",
       "      <th>75%</th>\n",
       "      <td>463.000000</td>\n",
       "      <td>111.000000</td>\n",
       "      <td>4.000000</td>\n",
       "      <td>14.600000</td>\n",
       "      <td>43.000000</td>\n",
       "      <td>2.000000</td>\n",
       "      <td>35.000000</td>\n",
       "      <td>13.000000</td>\n",
       "      <td>181.000000</td>\n",
       "    </tr>\n",
       "    <tr>\n",
       "      <th>max</th>\n",
       "      <td>617.000000</td>\n",
       "      <td>263.000000</td>\n",
       "      <td>10.000000</td>\n",
       "      <td>19.600000</td>\n",
       "      <td>113.000000</td>\n",
       "      <td>7.000000</td>\n",
       "      <td>175.000000</td>\n",
       "      <td>109.000000</td>\n",
       "      <td>263.000000</td>\n",
       "    </tr>\n",
       "  </tbody>\n",
       "</table>\n",
       "</div>"
      ],
      "text/plain": [
       "                mid          runs       wickets         overs   runs_last_5  \\\n",
       "count  76014.000000  76014.000000  76014.000000  76014.000000  76014.000000   \n",
       "mean     308.627740     74.889349      2.415844      9.783068     33.216434   \n",
       "std      178.156878     48.823327      2.015207      5.772587     14.914174   \n",
       "min        1.000000      0.000000      0.000000      0.000000      0.000000   \n",
       "25%      154.000000     34.000000      1.000000      4.600000     24.000000   \n",
       "50%      308.000000     70.000000      2.000000      9.600000     34.000000   \n",
       "75%      463.000000    111.000000      4.000000     14.600000     43.000000   \n",
       "max      617.000000    263.000000     10.000000     19.600000    113.000000   \n",
       "\n",
       "       wickets_last_5       striker   non-striker         total  \n",
       "count    76014.000000  76014.000000  76014.000000  76014.000000  \n",
       "mean         1.120307     24.962283      8.869287    160.901452  \n",
       "std          1.053343     20.079752     10.795742     29.246231  \n",
       "min          0.000000      0.000000      0.000000     67.000000  \n",
       "25%          0.000000     10.000000      1.000000    142.000000  \n",
       "50%          1.000000     20.000000      5.000000    162.000000  \n",
       "75%          2.000000     35.000000     13.000000    181.000000  \n",
       "max          7.000000    175.000000    109.000000    263.000000  "
      ]
     },
     "execution_count": 7,
     "metadata": {},
     "output_type": "execute_result"
    }
   ],
   "source": [
    "# describing data set \n",
    "df.describe()"
   ]
  },
  {
   "cell_type": "code",
   "execution_count": 8,
   "id": "bdc69759",
   "metadata": {},
   "outputs": [
    {
     "name": "stdout",
     "output_type": "stream",
     "text": [
      "<class 'pandas.core.frame.DataFrame'>\n",
      "RangeIndex: 76014 entries, 0 to 76013\n",
      "Data columns (total 15 columns):\n",
      " #   Column          Non-Null Count  Dtype  \n",
      "---  ------          --------------  -----  \n",
      " 0   mid             76014 non-null  int64  \n",
      " 1   date            76014 non-null  object \n",
      " 2   venue           76014 non-null  object \n",
      " 3   bat_team        76014 non-null  object \n",
      " 4   bowl_team       76014 non-null  object \n",
      " 5   batsman         76014 non-null  object \n",
      " 6   bowler          76014 non-null  object \n",
      " 7   runs            76014 non-null  int64  \n",
      " 8   wickets         76014 non-null  int64  \n",
      " 9   overs           76014 non-null  float64\n",
      " 10  runs_last_5     76014 non-null  int64  \n",
      " 11  wickets_last_5  76014 non-null  int64  \n",
      " 12  striker         76014 non-null  int64  \n",
      " 13  non-striker     76014 non-null  int64  \n",
      " 14  total           76014 non-null  int64  \n",
      "dtypes: float64(1), int64(8), object(6)\n",
      "memory usage: 8.7+ MB\n"
     ]
    }
   ],
   "source": [
    "#  information about each column\n",
    "df.info()"
   ]
  },
  {
   "cell_type": "code",
   "execution_count": 9,
   "id": "cdec4f8e",
   "metadata": {},
   "outputs": [
    {
     "data": {
      "text/plain": [
       "mid               617\n",
       "date              442\n",
       "venue              35\n",
       "bat_team           14\n",
       "bowl_team          14\n",
       "batsman           411\n",
       "bowler            329\n",
       "runs              252\n",
       "wickets            11\n",
       "overs             140\n",
       "runs_last_5       102\n",
       "wickets_last_5      8\n",
       "striker           155\n",
       "non-striker        88\n",
       "total             138\n",
       "dtype: int64"
      ]
     },
     "execution_count": 9,
     "metadata": {},
     "output_type": "execute_result"
    }
   ],
   "source": [
    "# number of unquie value of each column\n",
    "df.nunique()"
   ]
  },
  {
   "cell_type": "code",
   "execution_count": 13,
   "id": "86752ffd",
   "metadata": {},
   "outputs": [
    {
     "data": {
      "image/png": "[encoded data removed]",
      "text/plain": [
       "<Figure size 360x360 with 1 Axes>"
      ]
     },
     "metadata": {
      "needs_background": "light"
     },
     "output_type": "display_data"
    }
   ],
   "source": [
    "# wicket Distribution\n",
    "sns.displot(df['wickets'],kde=False,bins=10)\n",
    "plt.title(\"wickets Distribution\")\n",
    "plt.show()"
   ]
  },
  {
   "cell_type": "code",
   "execution_count": 14,
   "id": "34675a33",
   "metadata": {},
   "outputs": [
    {
     "data": {
      "image/png": "[encoded data removed]",
      "text/plain": [
       "<Figure size 360x360 with 1 Axes>"
      ]
     },
     "metadata": {
      "needs_background": "light"
     },
     "output_type": "display_data"
    }
   ],
   "source": [
    "# run distribution\n",
    "sns.displot(df['total'],kde=False,bins=10)\n",
    "plt.title(\"Runs Distribution\")\n",
    "plt.show()"
   ]
  },
  {
   "cell_type": "markdown",
   "id": "c20a501c",
   "metadata": {},
   "source": [
    "# Data cleaning"
   ]
  },
  {
   "cell_type": "code",
   "execution_count": 15,
   "id": "c1ddf805",
   "metadata": {},
   "outputs": [
    {
     "data": {
      "text/plain": [
       "Index(['mid', 'date', 'venue', 'bat_team', 'bowl_team', 'batsman', 'bowler',\n",
       "       'runs', 'wickets', 'overs', 'runs_last_5', 'wickets_last_5', 'striker',\n",
       "       'non-striker', 'total'],\n",
       "      dtype='object')"
      ]
     },
     "execution_count": 15,
     "metadata": {},
     "output_type": "execute_result"
    }
   ],
   "source": [
    "# names of all column\n",
    "df.columns"
   ]
  },
  {
   "cell_type": "code",
   "execution_count": 23,
   "id": "c82d58b7",
   "metadata": {},
   "outputs": [
    {
     "name": "stdout",
     "output_type": "stream",
     "text": [
      "Before Removing Irrelevant Columns : (76014, 15)\n",
      "After Removing Irrelevant Columns : (76014, 8)\n"
     ]
    },
    {
     "data": {
      "text/html": [
       "<div>\n",
       "<style scoped>\n",
       "    .dataframe tbody tr th:only-of-type {\n",
       "        vertical-align: middle;\n",
       "    }\n",
       "\n",
       "    .dataframe tbody tr th {\n",
       "        vertical-align: top;\n",
       "    }\n",
       "\n",
       "    .dataframe thead th {\n",
       "        text-align: right;\n",
       "    }\n",
       "</style>\n",
       "<table border=\"1\" class=\"dataframe\">\n",
       "  <thead>\n",
       "    <tr style=\"text-align: right;\">\n",
       "      <th></th>\n",
       "      <th>bat_team</th>\n",
       "      <th>bowl_team</th>\n",
       "      <th>runs</th>\n",
       "      <th>wickets</th>\n",
       "      <th>overs</th>\n",
       "      <th>runs_last_5</th>\n",
       "      <th>wickets_last_5</th>\n",
       "      <th>total</th>\n",
       "    </tr>\n",
       "  </thead>\n",
       "  <tbody>\n",
       "    <tr>\n",
       "      <th>0</th>\n",
       "      <td>Kolkata Knight Riders</td>\n",
       "      <td>Royal Challengers Bangalore</td>\n",
       "      <td>1</td>\n",
       "      <td>0</td>\n",
       "      <td>0.1</td>\n",
       "      <td>1</td>\n",
       "      <td>0</td>\n",
       "      <td>222</td>\n",
       "    </tr>\n",
       "    <tr>\n",
       "      <th>1</th>\n",
       "      <td>Kolkata Knight Riders</td>\n",
       "      <td>Royal Challengers Bangalore</td>\n",
       "      <td>1</td>\n",
       "      <td>0</td>\n",
       "      <td>0.2</td>\n",
       "      <td>1</td>\n",
       "      <td>0</td>\n",
       "      <td>222</td>\n",
       "    </tr>\n",
       "    <tr>\n",
       "      <th>2</th>\n",
       "      <td>Kolkata Knight Riders</td>\n",
       "      <td>Royal Challengers Bangalore</td>\n",
       "      <td>2</td>\n",
       "      <td>0</td>\n",
       "      <td>0.2</td>\n",
       "      <td>2</td>\n",
       "      <td>0</td>\n",
       "      <td>222</td>\n",
       "    </tr>\n",
       "    <tr>\n",
       "      <th>3</th>\n",
       "      <td>Kolkata Knight Riders</td>\n",
       "      <td>Royal Challengers Bangalore</td>\n",
       "      <td>2</td>\n",
       "      <td>0</td>\n",
       "      <td>0.3</td>\n",
       "      <td>2</td>\n",
       "      <td>0</td>\n",
       "      <td>222</td>\n",
       "    </tr>\n",
       "    <tr>\n",
       "      <th>4</th>\n",
       "      <td>Kolkata Knight Riders</td>\n",
       "      <td>Royal Challengers Bangalore</td>\n",
       "      <td>2</td>\n",
       "      <td>0</td>\n",
       "      <td>0.4</td>\n",
       "      <td>2</td>\n",
       "      <td>0</td>\n",
       "      <td>222</td>\n",
       "    </tr>\n",
       "  </tbody>\n",
       "</table>\n",
       "</div>"
      ],
      "text/plain": [
       "                bat_team                    bowl_team  runs  wickets  overs  \\\n",
       "0  Kolkata Knight Riders  Royal Challengers Bangalore     1        0    0.1   \n",
       "1  Kolkata Knight Riders  Royal Challengers Bangalore     1        0    0.2   \n",
       "2  Kolkata Knight Riders  Royal Challengers Bangalore     2        0    0.2   \n",
       "3  Kolkata Knight Riders  Royal Challengers Bangalore     2        0    0.3   \n",
       "4  Kolkata Knight Riders  Royal Challengers Bangalore     2        0    0.4   \n",
       "\n",
       "   runs_last_5  wickets_last_5  total  \n",
       "0            1               0    222  \n",
       "1            1               0    222  \n",
       "2            2               0    222  \n",
       "3            2               0    222  \n",
       "4            2               0    222  "
      ]
     },
     "execution_count": 23,
     "metadata": {},
     "output_type": "execute_result"
    }
   ],
   "source": [
    "irrelevant = ['mid', 'date', 'venue','batsman', 'bowler', 'striker', 'non-striker']\n",
    "print(f'Before Removing Irrelevant Columns : {df.shape}')\n",
    "df = df.drop(irrelevant, axis=1) # Drop Irrelevant Columns\n",
    "print(f'After Removing Irrelevant Columns : {df.shape}')\n",
    "df.head()\n",
    "      "
   ]
  },
  {
   "cell_type": "markdown",
   "id": "3c73abdb",
   "metadata": {},
   "source": [
    "# kepping only Consistent Teams"
   ]
  },
  {
   "cell_type": "code",
   "execution_count": 24,
   "id": "f7bb481c",
   "metadata": {},
   "outputs": [
    {
     "data": {
      "text/html": [
       "<div>\n",
       "<style scoped>\n",
       "    .dataframe tbody tr th:only-of-type {\n",
       "        vertical-align: middle;\n",
       "    }\n",
       "\n",
       "    .dataframe tbody tr th {\n",
       "        vertical-align: top;\n",
       "    }\n",
       "\n",
       "    .dataframe thead th {\n",
       "        text-align: right;\n",
       "    }\n",
       "</style>\n",
       "<table border=\"1\" class=\"dataframe\">\n",
       "  <thead>\n",
       "    <tr style=\"text-align: right;\">\n",
       "      <th></th>\n",
       "      <th>bat_team</th>\n",
       "      <th>bowl_team</th>\n",
       "      <th>runs</th>\n",
       "      <th>wickets</th>\n",
       "      <th>overs</th>\n",
       "      <th>runs_last_5</th>\n",
       "      <th>wickets_last_5</th>\n",
       "      <th>total</th>\n",
       "    </tr>\n",
       "  </thead>\n",
       "  <tbody>\n",
       "    <tr>\n",
       "      <th>0</th>\n",
       "      <td>Kolkata Knight Riders</td>\n",
       "      <td>Royal Challengers Bangalore</td>\n",
       "      <td>1</td>\n",
       "      <td>0</td>\n",
       "      <td>0.1</td>\n",
       "      <td>1</td>\n",
       "      <td>0</td>\n",
       "      <td>222</td>\n",
       "    </tr>\n",
       "    <tr>\n",
       "      <th>1</th>\n",
       "      <td>Kolkata Knight Riders</td>\n",
       "      <td>Royal Challengers Bangalore</td>\n",
       "      <td>1</td>\n",
       "      <td>0</td>\n",
       "      <td>0.2</td>\n",
       "      <td>1</td>\n",
       "      <td>0</td>\n",
       "      <td>222</td>\n",
       "    </tr>\n",
       "    <tr>\n",
       "      <th>2</th>\n",
       "      <td>Kolkata Knight Riders</td>\n",
       "      <td>Royal Challengers Bangalore</td>\n",
       "      <td>2</td>\n",
       "      <td>0</td>\n",
       "      <td>0.2</td>\n",
       "      <td>2</td>\n",
       "      <td>0</td>\n",
       "      <td>222</td>\n",
       "    </tr>\n",
       "    <tr>\n",
       "      <th>3</th>\n",
       "      <td>Kolkata Knight Riders</td>\n",
       "      <td>Royal Challengers Bangalore</td>\n",
       "      <td>2</td>\n",
       "      <td>0</td>\n",
       "      <td>0.3</td>\n",
       "      <td>2</td>\n",
       "      <td>0</td>\n",
       "      <td>222</td>\n",
       "    </tr>\n",
       "    <tr>\n",
       "      <th>4</th>\n",
       "      <td>Kolkata Knight Riders</td>\n",
       "      <td>Royal Challengers Bangalore</td>\n",
       "      <td>2</td>\n",
       "      <td>0</td>\n",
       "      <td>0.4</td>\n",
       "      <td>2</td>\n",
       "      <td>0</td>\n",
       "      <td>222</td>\n",
       "    </tr>\n",
       "  </tbody>\n",
       "</table>\n",
       "</div>"
      ],
      "text/plain": [
       "                bat_team                    bowl_team  runs  wickets  overs  \\\n",
       "0  Kolkata Knight Riders  Royal Challengers Bangalore     1        0    0.1   \n",
       "1  Kolkata Knight Riders  Royal Challengers Bangalore     1        0    0.2   \n",
       "2  Kolkata Knight Riders  Royal Challengers Bangalore     2        0    0.2   \n",
       "3  Kolkata Knight Riders  Royal Challengers Bangalore     2        0    0.3   \n",
       "4  Kolkata Knight Riders  Royal Challengers Bangalore     2        0    0.4   \n",
       "\n",
       "   runs_last_5  wickets_last_5  total  \n",
       "0            1               0    222  \n",
       "1            1               0    222  \n",
       "2            2               0    222  \n",
       "3            2               0    222  \n",
       "4            2               0    222  "
      ]
     },
     "execution_count": 24,
     "metadata": {},
     "output_type": "execute_result"
    }
   ],
   "source": [
    "# Define Consistent Teams\n",
    "const_teams = ['Kolkata Knight Riders', 'Chennai Super Kings', 'Rajasthan Royals',\n",
    "              'Mumbai Indians', 'Kings XI Punjab', 'Royal Challengers Bangalore',\n",
    "              'Delhi Daredevils', 'Sunrisers Hyderabad']\n",
    "df.head()"
   ]
  },
  {
   "cell_type": "code",
   "execution_count": 27,
   "id": "ba084065",
   "metadata": {},
   "outputs": [
    {
     "name": "stdout",
     "output_type": "stream",
     "text": [
      "Before Removing Inconsistent Teams : (53811, 8)\n",
      "After Removing Irrelevant Columns : (53811, 8)\n",
      "Consistent Teams : \n",
      "['Kolkata Knight Riders' 'Chennai Super Kings' 'Rajasthan Royals'\n",
      " 'Mumbai Indians' 'Kings XI Punjab' 'Royal Challengers Bangalore'\n",
      " 'Delhi Daredevils' 'Sunrisers Hyderabad']\n"
     ]
    },
    {
     "data": {
      "text/html": [
       "<div>\n",
       "<style scoped>\n",
       "    .dataframe tbody tr th:only-of-type {\n",
       "        vertical-align: middle;\n",
       "    }\n",
       "\n",
       "    .dataframe tbody tr th {\n",
       "        vertical-align: top;\n",
       "    }\n",
       "\n",
       "    .dataframe thead th {\n",
       "        text-align: right;\n",
       "    }\n",
       "</style>\n",
       "<table border=\"1\" class=\"dataframe\">\n",
       "  <thead>\n",
       "    <tr style=\"text-align: right;\">\n",
       "      <th></th>\n",
       "      <th>bat_team</th>\n",
       "      <th>bowl_team</th>\n",
       "      <th>runs</th>\n",
       "      <th>wickets</th>\n",
       "      <th>overs</th>\n",
       "      <th>runs_last_5</th>\n",
       "      <th>wickets_last_5</th>\n",
       "      <th>total</th>\n",
       "    </tr>\n",
       "  </thead>\n",
       "  <tbody>\n",
       "    <tr>\n",
       "      <th>0</th>\n",
       "      <td>Kolkata Knight Riders</td>\n",
       "      <td>Royal Challengers Bangalore</td>\n",
       "      <td>1</td>\n",
       "      <td>0</td>\n",
       "      <td>0.1</td>\n",
       "      <td>1</td>\n",
       "      <td>0</td>\n",
       "      <td>222</td>\n",
       "    </tr>\n",
       "    <tr>\n",
       "      <th>1</th>\n",
       "      <td>Kolkata Knight Riders</td>\n",
       "      <td>Royal Challengers Bangalore</td>\n",
       "      <td>1</td>\n",
       "      <td>0</td>\n",
       "      <td>0.2</td>\n",
       "      <td>1</td>\n",
       "      <td>0</td>\n",
       "      <td>222</td>\n",
       "    </tr>\n",
       "    <tr>\n",
       "      <th>2</th>\n",
       "      <td>Kolkata Knight Riders</td>\n",
       "      <td>Royal Challengers Bangalore</td>\n",
       "      <td>2</td>\n",
       "      <td>0</td>\n",
       "      <td>0.2</td>\n",
       "      <td>2</td>\n",
       "      <td>0</td>\n",
       "      <td>222</td>\n",
       "    </tr>\n",
       "    <tr>\n",
       "      <th>3</th>\n",
       "      <td>Kolkata Knight Riders</td>\n",
       "      <td>Royal Challengers Bangalore</td>\n",
       "      <td>2</td>\n",
       "      <td>0</td>\n",
       "      <td>0.3</td>\n",
       "      <td>2</td>\n",
       "      <td>0</td>\n",
       "      <td>222</td>\n",
       "    </tr>\n",
       "    <tr>\n",
       "      <th>4</th>\n",
       "      <td>Kolkata Knight Riders</td>\n",
       "      <td>Royal Challengers Bangalore</td>\n",
       "      <td>2</td>\n",
       "      <td>0</td>\n",
       "      <td>0.4</td>\n",
       "      <td>2</td>\n",
       "      <td>0</td>\n",
       "      <td>222</td>\n",
       "    </tr>\n",
       "  </tbody>\n",
       "</table>\n",
       "</div>"
      ],
      "text/plain": [
       "                bat_team                    bowl_team  runs  wickets  overs  \\\n",
       "0  Kolkata Knight Riders  Royal Challengers Bangalore     1        0    0.1   \n",
       "1  Kolkata Knight Riders  Royal Challengers Bangalore     1        0    0.2   \n",
       "2  Kolkata Knight Riders  Royal Challengers Bangalore     2        0    0.2   \n",
       "3  Kolkata Knight Riders  Royal Challengers Bangalore     2        0    0.3   \n",
       "4  Kolkata Knight Riders  Royal Challengers Bangalore     2        0    0.4   \n",
       "\n",
       "   runs_last_5  wickets_last_5  total  \n",
       "0            1               0    222  \n",
       "1            1               0    222  \n",
       "2            2               0    222  \n",
       "3            2               0    222  \n",
       "4            2               0    222  "
      ]
     },
     "execution_count": 27,
     "metadata": {},
     "output_type": "execute_result"
    }
   ],
   "source": [
    "print(f'Before Removing Inconsistent Teams : {df.shape}')\n",
    "df = df[(df['bat_team'].isin(const_teams)) & (df['bowl_team'].isin(const_teams))]\n",
    "print(f'After Removing Irrelevant Columns : {df.shape}')\n",
    "print(f\"Consistent Teams : \\n{df['bat_team'].unique()}\")\n",
    "df.head()"
   ]
  },
  {
   "cell_type": "markdown",
   "id": "31fc7ce7",
   "metadata": {},
   "source": [
    "# Remove First 5 Over of every match"
   ]
  },
  {
   "cell_type": "code",
   "execution_count": 28,
   "id": "9d948036",
   "metadata": {},
   "outputs": [
    {
     "name": "stdout",
     "output_type": "stream",
     "text": [
      " Before Removing Overs: (53811, 8)\n",
      " After Removing Overs: (40108, 8)\n"
     ]
    },
    {
     "data": {
      "text/html": [
       "<div>\n",
       "<style scoped>\n",
       "    .dataframe tbody tr th:only-of-type {\n",
       "        vertical-align: middle;\n",
       "    }\n",
       "\n",
       "    .dataframe tbody tr th {\n",
       "        vertical-align: top;\n",
       "    }\n",
       "\n",
       "    .dataframe thead th {\n",
       "        text-align: right;\n",
       "    }\n",
       "</style>\n",
       "<table border=\"1\" class=\"dataframe\">\n",
       "  <thead>\n",
       "    <tr style=\"text-align: right;\">\n",
       "      <th></th>\n",
       "      <th>bat_team</th>\n",
       "      <th>bowl_team</th>\n",
       "      <th>runs</th>\n",
       "      <th>wickets</th>\n",
       "      <th>overs</th>\n",
       "      <th>runs_last_5</th>\n",
       "      <th>wickets_last_5</th>\n",
       "      <th>total</th>\n",
       "    </tr>\n",
       "  </thead>\n",
       "  <tbody>\n",
       "    <tr>\n",
       "      <th>32</th>\n",
       "      <td>Kolkata Knight Riders</td>\n",
       "      <td>Royal Challengers Bangalore</td>\n",
       "      <td>61</td>\n",
       "      <td>0</td>\n",
       "      <td>5.1</td>\n",
       "      <td>59</td>\n",
       "      <td>0</td>\n",
       "      <td>222</td>\n",
       "    </tr>\n",
       "    <tr>\n",
       "      <th>33</th>\n",
       "      <td>Kolkata Knight Riders</td>\n",
       "      <td>Royal Challengers Bangalore</td>\n",
       "      <td>61</td>\n",
       "      <td>1</td>\n",
       "      <td>5.2</td>\n",
       "      <td>59</td>\n",
       "      <td>1</td>\n",
       "      <td>222</td>\n",
       "    </tr>\n",
       "    <tr>\n",
       "      <th>34</th>\n",
       "      <td>Kolkata Knight Riders</td>\n",
       "      <td>Royal Challengers Bangalore</td>\n",
       "      <td>61</td>\n",
       "      <td>1</td>\n",
       "      <td>5.3</td>\n",
       "      <td>59</td>\n",
       "      <td>1</td>\n",
       "      <td>222</td>\n",
       "    </tr>\n",
       "    <tr>\n",
       "      <th>35</th>\n",
       "      <td>Kolkata Knight Riders</td>\n",
       "      <td>Royal Challengers Bangalore</td>\n",
       "      <td>61</td>\n",
       "      <td>1</td>\n",
       "      <td>5.4</td>\n",
       "      <td>59</td>\n",
       "      <td>1</td>\n",
       "      <td>222</td>\n",
       "    </tr>\n",
       "    <tr>\n",
       "      <th>36</th>\n",
       "      <td>Kolkata Knight Riders</td>\n",
       "      <td>Royal Challengers Bangalore</td>\n",
       "      <td>61</td>\n",
       "      <td>1</td>\n",
       "      <td>5.5</td>\n",
       "      <td>58</td>\n",
       "      <td>1</td>\n",
       "      <td>222</td>\n",
       "    </tr>\n",
       "  </tbody>\n",
       "</table>\n",
       "</div>"
      ],
      "text/plain": [
       "                 bat_team                    bowl_team  runs  wickets  overs  \\\n",
       "32  Kolkata Knight Riders  Royal Challengers Bangalore    61        0    5.1   \n",
       "33  Kolkata Knight Riders  Royal Challengers Bangalore    61        1    5.2   \n",
       "34  Kolkata Knight Riders  Royal Challengers Bangalore    61        1    5.3   \n",
       "35  Kolkata Knight Riders  Royal Challengers Bangalore    61        1    5.4   \n",
       "36  Kolkata Knight Riders  Royal Challengers Bangalore    61        1    5.5   \n",
       "\n",
       "    runs_last_5  wickets_last_5  total  \n",
       "32           59               0    222  \n",
       "33           59               1    222  \n",
       "34           59               1    222  \n",
       "35           59               1    222  \n",
       "36           58               1    222  "
      ]
     },
     "execution_count": 28,
     "metadata": {},
     "output_type": "execute_result"
    }
   ],
   "source": [
    "print(f' Before Removing Overs: {df.shape}')\n",
    "df= df[df['overs']>=5.0]\n",
    "print(f' After Removing Overs: {df.shape}')\n",
    "df.head()"
   ]
  },
  {
   "cell_type": "markdown",
   "id": "2a59f3bf",
   "metadata": {},
   "source": [
    "# Data preprocessing and Encoding"
   ]
  },
  {
   "cell_type": "code",
   "execution_count": 30,
   "id": "e15242d7",
   "metadata": {},
   "outputs": [
    {
     "data": {
      "text/html": [
       "<div>\n",
       "<style scoped>\n",
       "    .dataframe tbody tr th:only-of-type {\n",
       "        vertical-align: middle;\n",
       "    }\n",
       "\n",
       "    .dataframe tbody tr th {\n",
       "        vertical-align: top;\n",
       "    }\n",
       "\n",
       "    .dataframe thead th {\n",
       "        text-align: right;\n",
       "    }\n",
       "</style>\n",
       "<table border=\"1\" class=\"dataframe\">\n",
       "  <thead>\n",
       "    <tr style=\"text-align: right;\">\n",
       "      <th></th>\n",
       "      <th>bat_team</th>\n",
       "      <th>bowl_team</th>\n",
       "      <th>runs</th>\n",
       "      <th>wickets</th>\n",
       "      <th>overs</th>\n",
       "      <th>runs_last_5</th>\n",
       "      <th>wickets_last_5</th>\n",
       "      <th>total</th>\n",
       "    </tr>\n",
       "  </thead>\n",
       "  <tbody>\n",
       "    <tr>\n",
       "      <th>32</th>\n",
       "      <td>3</td>\n",
       "      <td>6</td>\n",
       "      <td>61</td>\n",
       "      <td>0</td>\n",
       "      <td>5.1</td>\n",
       "      <td>59</td>\n",
       "      <td>0</td>\n",
       "      <td>222</td>\n",
       "    </tr>\n",
       "    <tr>\n",
       "      <th>33</th>\n",
       "      <td>3</td>\n",
       "      <td>6</td>\n",
       "      <td>61</td>\n",
       "      <td>1</td>\n",
       "      <td>5.2</td>\n",
       "      <td>59</td>\n",
       "      <td>1</td>\n",
       "      <td>222</td>\n",
       "    </tr>\n",
       "    <tr>\n",
       "      <th>34</th>\n",
       "      <td>3</td>\n",
       "      <td>6</td>\n",
       "      <td>61</td>\n",
       "      <td>1</td>\n",
       "      <td>5.3</td>\n",
       "      <td>59</td>\n",
       "      <td>1</td>\n",
       "      <td>222</td>\n",
       "    </tr>\n",
       "    <tr>\n",
       "      <th>35</th>\n",
       "      <td>3</td>\n",
       "      <td>6</td>\n",
       "      <td>61</td>\n",
       "      <td>1</td>\n",
       "      <td>5.4</td>\n",
       "      <td>59</td>\n",
       "      <td>1</td>\n",
       "      <td>222</td>\n",
       "    </tr>\n",
       "    <tr>\n",
       "      <th>36</th>\n",
       "      <td>3</td>\n",
       "      <td>6</td>\n",
       "      <td>61</td>\n",
       "      <td>1</td>\n",
       "      <td>5.5</td>\n",
       "      <td>58</td>\n",
       "      <td>1</td>\n",
       "      <td>222</td>\n",
       "    </tr>\n",
       "  </tbody>\n",
       "</table>\n",
       "</div>"
      ],
      "text/plain": [
       "    bat_team  bowl_team  runs  wickets  overs  runs_last_5  wickets_last_5  \\\n",
       "32         3          6    61        0    5.1           59               0   \n",
       "33         3          6    61        1    5.2           59               1   \n",
       "34         3          6    61        1    5.3           59               1   \n",
       "35         3          6    61        1    5.4           59               1   \n",
       "36         3          6    61        1    5.5           58               1   \n",
       "\n",
       "    total  \n",
       "32    222  \n",
       "33    222  \n",
       "34    222  \n",
       "35    222  \n",
       "36    222  "
      ]
     },
     "execution_count": 30,
     "metadata": {},
     "output_type": "execute_result"
    }
   ],
   "source": [
    "from sklearn.preprocessing import LabelEncoder, OneHotEncoder\n",
    "le = LabelEncoder()\n",
    "for col in ['bat_team', 'bowl_team']:\n",
    "  df[col] = le.fit_transform(df[col])\n",
    "df.head()"
   ]
  },
  {
   "cell_type": "markdown",
   "id": "45c62461",
   "metadata": {},
   "source": [
    "#  Performing One Hot Encoding and Column Transformatiom"
   ]
  },
  {
   "cell_type": "code",
   "execution_count": 32,
   "id": "70155d9d",
   "metadata": {},
   "outputs": [],
   "source": [
    "from sklearn.compose import ColumnTransformer\n",
    "columnTransformer = ColumnTransformer([('encoder', \n",
    "                                        OneHotEncoder(), \n",
    "                                        [0, 1])], \n",
    "                                      remainder='passthrough')"
   ]
  },
  {
   "cell_type": "code",
   "execution_count": 33,
   "id": "d34eb090",
   "metadata": {},
   "outputs": [],
   "source": [
    "df=np.array(columnTransformer.fit_transform(df))"
   ]
  },
  {
   "cell_type": "markdown",
   "id": "4d5a7c96",
   "metadata": {},
   "source": [
    "# Save the numpy Array in a new Dataframe with transformed columns"
   ]
  },
  {
   "cell_type": "code",
   "execution_count": 35,
   "id": "20e3dc3b",
   "metadata": {},
   "outputs": [],
   "source": [
    "cols = ['batting_team_Chennai Super Kings', 'batting_team_Delhi Daredevils', 'batting_team_Kings XI Punjab',\n",
    "              'batting_team_Kolkata Knight Riders', 'batting_team_Mumbai Indians', 'batting_team_Rajasthan Royals',\n",
    "              'batting_team_Royal Challengers Bangalore', 'batting_team_Sunrisers Hyderabad',\n",
    "              'bowling_team_Chennai Super Kings', 'bowling_team_Delhi Daredevils', 'bowling_team_Kings XI Punjab',\n",
    "              'bowling_team_Kolkata Knight Riders', 'bowling_team_Mumbai Indians', 'bowling_team_Rajasthan Royals',\n",
    "              'bowling_team_Royal Challengers Bangalore', 'bowling_team_Sunrisers Hyderabad', 'runs', 'wickets', 'overs',\n",
    "       'runs_last_5', 'wickets_last_5', 'total']\n",
    "df = pd.DataFrame(df, columns=cols)"
   ]
  },
  {
   "cell_type": "code",
   "execution_count": 36,
   "id": "6b2ed743",
   "metadata": {},
   "outputs": [
    {
     "data": {
      "text/html": [
       "<div>\n",
       "<style scoped>\n",
       "    .dataframe tbody tr th:only-of-type {\n",
       "        vertical-align: middle;\n",
       "    }\n",
       "\n",
       "    .dataframe tbody tr th {\n",
       "        vertical-align: top;\n",
       "    }\n",
       "\n",
       "    .dataframe thead th {\n",
       "        text-align: right;\n",
       "    }\n",
       "</style>\n",
       "<table border=\"1\" class=\"dataframe\">\n",
       "  <thead>\n",
       "    <tr style=\"text-align: right;\">\n",
       "      <th></th>\n",
       "      <th>batting_team_Chennai Super Kings</th>\n",
       "      <th>batting_team_Delhi Daredevils</th>\n",
       "      <th>batting_team_Kings XI Punjab</th>\n",
       "      <th>batting_team_Kolkata Knight Riders</th>\n",
       "      <th>batting_team_Mumbai Indians</th>\n",
       "      <th>batting_team_Rajasthan Royals</th>\n",
       "      <th>batting_team_Royal Challengers Bangalore</th>\n",
       "      <th>batting_team_Sunrisers Hyderabad</th>\n",
       "      <th>bowling_team_Chennai Super Kings</th>\n",
       "      <th>bowling_team_Delhi Daredevils</th>\n",
       "      <th>...</th>\n",
       "      <th>bowling_team_Mumbai Indians</th>\n",
       "      <th>bowling_team_Rajasthan Royals</th>\n",
       "      <th>bowling_team_Royal Challengers Bangalore</th>\n",
       "      <th>bowling_team_Sunrisers Hyderabad</th>\n",
       "      <th>runs</th>\n",
       "      <th>wickets</th>\n",
       "      <th>overs</th>\n",
       "      <th>runs_last_5</th>\n",
       "      <th>wickets_last_5</th>\n",
       "      <th>total</th>\n",
       "    </tr>\n",
       "  </thead>\n",
       "  <tbody>\n",
       "    <tr>\n",
       "      <th>0</th>\n",
       "      <td>0.0</td>\n",
       "      <td>0.0</td>\n",
       "      <td>0.0</td>\n",
       "      <td>1.0</td>\n",
       "      <td>0.0</td>\n",
       "      <td>0.0</td>\n",
       "      <td>0.0</td>\n",
       "      <td>0.0</td>\n",
       "      <td>0.0</td>\n",
       "      <td>0.0</td>\n",
       "      <td>...</td>\n",
       "      <td>0.0</td>\n",
       "      <td>0.0</td>\n",
       "      <td>1.0</td>\n",
       "      <td>0.0</td>\n",
       "      <td>61.0</td>\n",
       "      <td>0.0</td>\n",
       "      <td>5.1</td>\n",
       "      <td>59.0</td>\n",
       "      <td>0.0</td>\n",
       "      <td>222.0</td>\n",
       "    </tr>\n",
       "    <tr>\n",
       "      <th>1</th>\n",
       "      <td>0.0</td>\n",
       "      <td>0.0</td>\n",
       "      <td>0.0</td>\n",
       "      <td>1.0</td>\n",
       "      <td>0.0</td>\n",
       "      <td>0.0</td>\n",
       "      <td>0.0</td>\n",
       "      <td>0.0</td>\n",
       "      <td>0.0</td>\n",
       "      <td>0.0</td>\n",
       "      <td>...</td>\n",
       "      <td>0.0</td>\n",
       "      <td>0.0</td>\n",
       "      <td>1.0</td>\n",
       "      <td>0.0</td>\n",
       "      <td>61.0</td>\n",
       "      <td>1.0</td>\n",
       "      <td>5.2</td>\n",
       "      <td>59.0</td>\n",
       "      <td>1.0</td>\n",
       "      <td>222.0</td>\n",
       "    </tr>\n",
       "    <tr>\n",
       "      <th>2</th>\n",
       "      <td>0.0</td>\n",
       "      <td>0.0</td>\n",
       "      <td>0.0</td>\n",
       "      <td>1.0</td>\n",
       "      <td>0.0</td>\n",
       "      <td>0.0</td>\n",
       "      <td>0.0</td>\n",
       "      <td>0.0</td>\n",
       "      <td>0.0</td>\n",
       "      <td>0.0</td>\n",
       "      <td>...</td>\n",
       "      <td>0.0</td>\n",
       "      <td>0.0</td>\n",
       "      <td>1.0</td>\n",
       "      <td>0.0</td>\n",
       "      <td>61.0</td>\n",
       "      <td>1.0</td>\n",
       "      <td>5.3</td>\n",
       "      <td>59.0</td>\n",
       "      <td>1.0</td>\n",
       "      <td>222.0</td>\n",
       "    </tr>\n",
       "    <tr>\n",
       "      <th>3</th>\n",
       "      <td>0.0</td>\n",
       "      <td>0.0</td>\n",
       "      <td>0.0</td>\n",
       "      <td>1.0</td>\n",
       "      <td>0.0</td>\n",
       "      <td>0.0</td>\n",
       "      <td>0.0</td>\n",
       "      <td>0.0</td>\n",
       "      <td>0.0</td>\n",
       "      <td>0.0</td>\n",
       "      <td>...</td>\n",
       "      <td>0.0</td>\n",
       "      <td>0.0</td>\n",
       "      <td>1.0</td>\n",
       "      <td>0.0</td>\n",
       "      <td>61.0</td>\n",
       "      <td>1.0</td>\n",
       "      <td>5.4</td>\n",
       "      <td>59.0</td>\n",
       "      <td>1.0</td>\n",
       "      <td>222.0</td>\n",
       "    </tr>\n",
       "    <tr>\n",
       "      <th>4</th>\n",
       "      <td>0.0</td>\n",
       "      <td>0.0</td>\n",
       "      <td>0.0</td>\n",
       "      <td>1.0</td>\n",
       "      <td>0.0</td>\n",
       "      <td>0.0</td>\n",
       "      <td>0.0</td>\n",
       "      <td>0.0</td>\n",
       "      <td>0.0</td>\n",
       "      <td>0.0</td>\n",
       "      <td>...</td>\n",
       "      <td>0.0</td>\n",
       "      <td>0.0</td>\n",
       "      <td>1.0</td>\n",
       "      <td>0.0</td>\n",
       "      <td>61.0</td>\n",
       "      <td>1.0</td>\n",
       "      <td>5.5</td>\n",
       "      <td>58.0</td>\n",
       "      <td>1.0</td>\n",
       "      <td>222.0</td>\n",
       "    </tr>\n",
       "  </tbody>\n",
       "</table>\n",
       "<p>5 rows × 22 columns</p>\n",
       "</div>"
      ],
      "text/plain": [
       "   batting_team_Chennai Super Kings  batting_team_Delhi Daredevils  \\\n",
       "0                               0.0                            0.0   \n",
       "1                               0.0                            0.0   \n",
       "2                               0.0                            0.0   \n",
       "3                               0.0                            0.0   \n",
       "4                               0.0                            0.0   \n",
       "\n",
       "   batting_team_Kings XI Punjab  batting_team_Kolkata Knight Riders  \\\n",
       "0                           0.0                                 1.0   \n",
       "1                           0.0                                 1.0   \n",
       "2                           0.0                                 1.0   \n",
       "3                           0.0                                 1.0   \n",
       "4                           0.0                                 1.0   \n",
       "\n",
       "   batting_team_Mumbai Indians  batting_team_Rajasthan Royals  \\\n",
       "0                          0.0                            0.0   \n",
       "1                          0.0                            0.0   \n",
       "2                          0.0                            0.0   \n",
       "3                          0.0                            0.0   \n",
       "4                          0.0                            0.0   \n",
       "\n",
       "   batting_team_Royal Challengers Bangalore  batting_team_Sunrisers Hyderabad  \\\n",
       "0                                       0.0                               0.0   \n",
       "1                                       0.0                               0.0   \n",
       "2                                       0.0                               0.0   \n",
       "3                                       0.0                               0.0   \n",
       "4                                       0.0                               0.0   \n",
       "\n",
       "   bowling_team_Chennai Super Kings  bowling_team_Delhi Daredevils  ...  \\\n",
       "0                               0.0                            0.0  ...   \n",
       "1                               0.0                            0.0  ...   \n",
       "2                               0.0                            0.0  ...   \n",
       "3                               0.0                            0.0  ...   \n",
       "4                               0.0                            0.0  ...   \n",
       "\n",
       "   bowling_team_Mumbai Indians  bowling_team_Rajasthan Royals  \\\n",
       "0                          0.0                            0.0   \n",
       "1                          0.0                            0.0   \n",
       "2                          0.0                            0.0   \n",
       "3                          0.0                            0.0   \n",
       "4                          0.0                            0.0   \n",
       "\n",
       "   bowling_team_Royal Challengers Bangalore  bowling_team_Sunrisers Hyderabad  \\\n",
       "0                                       1.0                               0.0   \n",
       "1                                       1.0                               0.0   \n",
       "2                                       1.0                               0.0   \n",
       "3                                       1.0                               0.0   \n",
       "4                                       1.0                               0.0   \n",
       "\n",
       "   runs  wickets  overs  runs_last_5  wickets_last_5  total  \n",
       "0  61.0      0.0    5.1         59.0             0.0  222.0  \n",
       "1  61.0      1.0    5.2         59.0             1.0  222.0  \n",
       "2  61.0      1.0    5.3         59.0             1.0  222.0  \n",
       "3  61.0      1.0    5.4         59.0             1.0  222.0  \n",
       "4  61.0      1.0    5.5         58.0             1.0  222.0  \n",
       "\n",
       "[5 rows x 22 columns]"
      ]
     },
     "execution_count": 36,
     "metadata": {},
     "output_type": "execute_result"
    }
   ],
   "source": [
    "# Encode Data\n",
    "df.head()"
   ]
  },
  {
   "cell_type": "markdown",
   "id": "3f52a162",
   "metadata": {},
   "source": [
    "# Model Building"
   ]
  },
  {
   "cell_type": "markdown",
   "id": "967f4b6a",
   "metadata": {},
   "source": [
    "#  prepare Train and test Data"
   ]
  },
  {
   "cell_type": "code",
   "execution_count": 37,
   "id": "55454c7f",
   "metadata": {},
   "outputs": [],
   "source": [
    "features = df.drop(['total'], axis=1)\n",
    "labels= df['total']"
   ]
  },
  {
   "cell_type": "code",
   "execution_count": 38,
   "id": "b9e80731",
   "metadata": {},
   "outputs": [
    {
     "name": "stdout",
     "output_type": "stream",
     "text": [
      "Training Set : (32086, 21)\n",
      "Testing Set : (8022, 21)\n"
     ]
    }
   ],
   "source": [
    "# Perform 80 : 20 Train-Test split\n",
    "from sklearn.model_selection import train_test_split\n",
    "train_features, test_features, train_labels, test_labels = train_test_split(features, labels, test_size=0.20, shuffle=True)\n",
    "print(f\"Training Set : {train_features.shape}\\nTesting Set : {test_features.shape}\")"
   ]
  },
  {
   "cell_type": "markdown",
   "id": "669c18ad",
   "metadata": {},
   "source": [
    "# ML"
   ]
  },
  {
   "cell_type": "code",
   "execution_count": 39,
   "id": "652cab2e",
   "metadata": {},
   "outputs": [],
   "source": [
    "model=dict()"
   ]
  },
  {
   "cell_type": "markdown",
   "id": "4433e12e",
   "metadata": {},
   "source": [
    "# Decision Tree Regression"
   ]
  },
  {
   "cell_type": "code",
   "execution_count": 41,
   "id": "b4ec15a5",
   "metadata": {},
   "outputs": [
    {
     "data": {
      "text/plain": [
       "DecisionTreeRegressor()"
      ]
     },
     "execution_count": 41,
     "metadata": {},
     "output_type": "execute_result"
    }
   ],
   "source": [
    "from sklearn.tree import DecisionTreeRegressor\n",
    "tree = DecisionTreeRegressor()\n",
    "# Train Model\n",
    "tree.fit(train_features, train_labels)"
   ]
  },
  {
   "cell_type": "code",
   "execution_count": 43,
   "id": "dc6d56dc",
   "metadata": {},
   "outputs": [
    {
     "name": "stdout",
     "output_type": "stream",
     "text": [
      "Train Score : 99.98%\n",
      "Test Score : 86.97%\n"
     ]
    }
   ],
   "source": [
    "# Evaluate Model\n",
    "train_score_tree = str(tree.score(train_features, train_labels) * 100)\n",
    "test_score_tree = str(tree.score(test_features, test_labels) * 100)\n",
    "print(f'Train Score : {train_score_tree[:5]}%\\nTest Score : {test_score_tree[:5]}%')\n",
    "model[\"tree\"] = test_score_tree"
   ]
  },
  {
   "cell_type": "code",
   "execution_count": 44,
   "id": "0ba07d6a",
   "metadata": {},
   "outputs": [
    {
     "name": "stdout",
     "output_type": "stream",
     "text": [
      "---- Decision Tree Regressor - Model Evaluation ----\n",
      "Mean Absolute Error (MAE): 3.826601844926452\n",
      "Mean Squared Error (MSE): 118.04119920219397\n",
      "Root Mean Squared Error (RMSE): 10.86467667269459\n"
     ]
    }
   ],
   "source": [
    "from sklearn.metrics import mean_absolute_error as mae, mean_squared_error as mse\n",
    "print(\"---- Decision Tree Regressor - Model Evaluation ----\")\n",
    "print(\"Mean Absolute Error (MAE): {}\".format(mae(test_labels, tree.predict(test_features))))\n",
    "print(\"Mean Squared Error (MSE): {}\".format(mse(test_labels, tree.predict(test_features))))\n",
    "print(\"Root Mean Squared Error (RMSE): {}\".format(np.sqrt(mse(test_labels, tree.predict(test_features)))))"
   ]
  },
  {
   "cell_type": "markdown",
   "id": "7c166984",
   "metadata": {},
   "source": [
    "# Linear Regression"
   ]
  },
  {
   "cell_type": "code",
   "execution_count": 45,
   "id": "b6ead80f",
   "metadata": {},
   "outputs": [
    {
     "data": {
      "text/plain": [
       "LinearRegression()"
      ]
     },
     "execution_count": 45,
     "metadata": {},
     "output_type": "execute_result"
    }
   ],
   "source": [
    "from sklearn.linear_model import LinearRegression\n",
    "linreg=LinearRegression()\n",
    "# Train Model\n",
    "linreg.fit(train_features,train_labels)"
   ]
  },
  {
   "cell_type": "code",
   "execution_count": 47,
   "id": "f0e4aac2",
   "metadata": {},
   "outputs": [
    {
     "name": "stdout",
     "output_type": "stream",
     "text": [
      "Train Score : 65.83%\n",
      "Test Score : 66.23%\n"
     ]
    }
   ],
   "source": [
    "# Evaluate Model\n",
    "train_score_linreg = str(linreg.score(train_features, train_labels) * 100)\n",
    "test_score_linreg = str(linreg.score(test_features, test_labels) * 100)\n",
    "print(f'Train Score : {train_score_linreg[:5]}%\\nTest Score : {test_score_linreg[:5]}%')\n",
    "model[\"linreg\"] = test_score_linreg"
   ]
  },
  {
   "cell_type": "code",
   "execution_count": 48,
   "id": "a6679368",
   "metadata": {},
   "outputs": [
    {
     "name": "stdout",
     "output_type": "stream",
     "text": [
      "---- Linear Regression - Model Evaluation ----\n",
      "Mean Absolute Error (MAE): 13.11864154689237\n",
      "Mean Squared Error (MSE): 306.1533215965808\n",
      "Root Mean Squared Error (RMSE): 17.49723754186874\n"
     ]
    }
   ],
   "source": [
    "print(\"---- Linear Regression - Model Evaluation ----\")\n",
    "print(\"Mean Absolute Error (MAE): {}\".format(mae(test_labels, linreg.predict(test_features))))\n",
    "print(\"Mean Squared Error (MSE): {}\".format(mse(test_labels, linreg.predict(test_features))))\n",
    "print(\"Root Mean Squared Error (RMSE): {}\".format(np.sqrt(mse(test_labels, linreg.predict(test_features)))))"
   ]
  },
  {
   "cell_type": "markdown",
   "id": "72e7ac43",
   "metadata": {},
   "source": [
    "# Random forcast Regression"
   ]
  },
  {
   "cell_type": "code",
   "execution_count": 49,
   "id": "2ad7e46e",
   "metadata": {},
   "outputs": [
    {
     "data": {
      "text/plain": [
       "RandomForestRegressor()"
      ]
     },
     "execution_count": 49,
     "metadata": {},
     "output_type": "execute_result"
    }
   ],
   "source": [
    "from sklearn.ensemble import RandomForestRegressor\n",
    "forest = RandomForestRegressor()\n",
    "# Train Model\n",
    "forest.fit(train_features, train_labels)"
   ]
  },
  {
   "cell_type": "code",
   "execution_count": 51,
   "id": "a8eda8ed",
   "metadata": {},
   "outputs": [
    {
     "name": "stdout",
     "output_type": "stream",
     "text": [
      "Train Score : 99.03%\n",
      "Test Score : 93.51%\n"
     ]
    }
   ],
   "source": [
    "# Evaluate Model\n",
    "train_score_forest = str(forest.score(train_features, train_labels)*100)\n",
    "test_score_forest = str(forest.score(test_features, test_labels)*100)\n",
    "print(f'Train Score : {train_score_forest[:5]}%\\nTest Score : {test_score_forest[:5]}%')\n",
    "model[\"forest\"] = test_score_forest"
   ]
  },
  {
   "cell_type": "code",
   "execution_count": 52,
   "id": "a651316e",
   "metadata": {},
   "outputs": [
    {
     "name": "stdout",
     "output_type": "stream",
     "text": [
      "---- Random Forest Regression - Model Evaluation ----\n",
      "Mean Absolute Error (MAE): 4.485672866877991\n",
      "Mean Squared Error (MSE): 58.78226052663374\n",
      "Root Mean Squared Error (RMSE): 7.666959014278982\n"
     ]
    }
   ],
   "source": [
    "print(\"---- Random Forest Regression - Model Evaluation ----\")\n",
    "print(\"Mean Absolute Error (MAE): {}\".format(mae(test_labels, forest.predict(test_features))))\n",
    "print(\"Mean Squared Error (MSE): {}\".format(mse(test_labels, forest.predict(test_features))))\n",
    "print(\"Root Mean Squared Error (RMSE): {}\".format(np.sqrt(mse(test_labels, forest.predict(test_features)))))"
   ]
  },
  {
   "cell_type": "markdown",
   "id": "406eb694",
   "metadata": {},
   "source": [
    "# Lasso Regression"
   ]
  },
  {
   "cell_type": "code",
   "execution_count": 53,
   "id": "784591f1",
   "metadata": {},
   "outputs": [
    {
     "data": {
      "text/plain": [
       "LassoCV()"
      ]
     },
     "execution_count": 53,
     "metadata": {},
     "output_type": "execute_result"
    }
   ],
   "source": [
    "from sklearn.linear_model import LassoCV\n",
    "lasso = LassoCV()\n",
    "# Train Model\n",
    "lasso.fit(train_features, train_labels)"
   ]
  },
  {
   "cell_type": "code",
   "execution_count": 54,
   "id": "c0cf1ade",
   "metadata": {},
   "outputs": [
    {
     "name": "stdout",
     "output_type": "stream",
     "text": [
      "Train Score : 64.82%\n",
      "Test Score : 65.26%\n"
     ]
    }
   ],
   "source": [
    "# Evaluate Model\n",
    "train_score_lasso = str(lasso.score(train_features, train_labels)*100)\n",
    "test_score_lasso = str(lasso.score(test_features, test_labels)*100)\n",
    "print(f'Train Score : {train_score_lasso[:5]}%\\nTest Score : {test_score_lasso[:5]}%')\n",
    "model[\"lasso\"] = test_score_lasso"
   ]
  },
  {
   "cell_type": "code",
   "execution_count": 56,
   "id": "42ec2665",
   "metadata": {},
   "outputs": [
    {
     "name": "stdout",
     "output_type": "stream",
     "text": [
      "---- Lasso Regression - Model Evaluation ----\n",
      "Mean Absolute Error (MAE): 13.164287628448195\n",
      "Mean Squared Error (MSE): 314.9505076127493\n",
      "Root Mean Squared Error (RMSE): 17.7468450044719\n"
     ]
    }
   ],
   "source": [
    "print(\"---- Lasso Regression - Model Evaluation ----\")\n",
    "print(\"Mean Absolute Error (MAE): {}\".format(mae(test_labels, lasso.predict(test_features))))\n",
    "print(\"Mean Squared Error (MSE): {}\".format(mse(test_labels, lasso.predict(test_features))))\n",
    "print(\"Root Mean Squared Error (RMSE): {}\".format(np.sqrt(mse(test_labels, lasso.predict(test_features)))))"
   ]
  },
  {
   "cell_type": "markdown",
   "id": "8096c264",
   "metadata": {},
   "source": [
    "# Support Vector Machine"
   ]
  },
  {
   "cell_type": "code",
   "execution_count": 57,
   "id": "422687e0",
   "metadata": {},
   "outputs": [
    {
     "data": {
      "text/plain": [
       "SVR()"
      ]
     },
     "execution_count": 57,
     "metadata": {},
     "output_type": "execute_result"
    }
   ],
   "source": [
    "from sklearn.svm import SVR\n",
    "svm = SVR()\n",
    "# Train Model\n",
    "svm.fit(train_features, train_labels)"
   ]
  },
  {
   "cell_type": "code",
   "execution_count": 59,
   "id": "de6c354e",
   "metadata": {},
   "outputs": [
    {
     "name": "stdout",
     "output_type": "stream",
     "text": [
      "Train Score : 57.36%\n",
      "Test Score : 57.67%\n"
     ]
    }
   ],
   "source": [
    "# Evaluate model\n",
    "train_score_svm = str(svm.score(train_features, train_labels)*100)\n",
    "test_score_svm = str(svm.score(test_features, test_labels)*100)\n",
    "print(f'Train Score : {train_score_svm[:5]}%\\nTest Score : {test_score_svm[:5]}%')\n",
    "model[\"svm\"] = test_score_svm"
   ]
  },
  {
   "cell_type": "code",
   "execution_count": 60,
   "id": "9d0472e8",
   "metadata": {},
   "outputs": [
    {
     "name": "stdout",
     "output_type": "stream",
     "text": [
      "---- Support Vector Regression - Model Evaluation ----\n",
      "Mean Absolute Error (MAE): 14.756374225799718\n",
      "Mean Squared Error (MSE): 383.73591222879503\n",
      "Root Mean Squared Error (RMSE): 19.589178447009843\n"
     ]
    }
   ],
   "source": [
    "print(\"---- Support Vector Regression - Model Evaluation ----\")\n",
    "print(\"Mean Absolute Error (MAE): {}\".format(mae(test_labels, svm.predict(test_features))))\n",
    "print(\"Mean Squared Error (MSE): {}\".format(mse(test_labels, svm.predict(test_features))))\n",
    "print(\"Root Mean Squared Error (RMSE): {}\".format(np.sqrt(mse(test_labels, svm.predict(test_features)))))"
   ]
  },
  {
   "cell_type": "markdown",
   "id": "1db863e4",
   "metadata": {},
   "source": [
    "# Neural Network"
   ]
  },
  {
   "cell_type": "code",
   "execution_count": 61,
   "id": "bb1c32e2",
   "metadata": {},
   "outputs": [
    {
     "name": "stderr",
     "output_type": "stream",
     "text": [
      "C:\\ProgramData\\Anaconda3\\lib\\site-packages\\sklearn\\neural_network\\_multilayer_perceptron.py:692: ConvergenceWarning: Stochastic Optimizer: Maximum iterations (500) reached and the optimization hasn't converged yet.\n",
      "  warnings.warn(\n"
     ]
    },
    {
     "data": {
      "text/plain": [
       "MLPRegressor(activation='logistic', max_iter=500)"
      ]
     },
     "execution_count": 61,
     "metadata": {},
     "output_type": "execute_result"
    }
   ],
   "source": [
    "from sklearn.neural_network import MLPRegressor\n",
    "neural_net = MLPRegressor(activation='logistic', max_iter=500)\n",
    "# Train Model\n",
    "neural_net.fit(train_features, train_labels)"
   ]
  },
  {
   "cell_type": "code",
   "execution_count": 63,
   "id": "1015acdf",
   "metadata": {},
   "outputs": [
    {
     "name": "stdout",
     "output_type": "stream",
     "text": [
      "Train Score : 86.11%\n",
      "Test Score : 85.35%\n"
     ]
    }
   ],
   "source": [
    "train_score_neural_net = str(neural_net.score(train_features, train_labels)*100)\n",
    "test_score_neural_net = str(neural_net.score(test_features, test_labels)*100)\n",
    "print(f'Train Score : {train_score_neural_net[:5]}%\\nTest Score : {test_score_neural_net[:5]}%')\n",
    "model[\"neural_net\"] = test_score_neural_net"
   ]
  },
  {
   "cell_type": "code",
   "execution_count": 64,
   "id": "3d2b5a57",
   "metadata": {},
   "outputs": [
    {
     "name": "stdout",
     "output_type": "stream",
     "text": [
      "---- Neural Networks Regression - Model Evaluation ----\n",
      "Mean Absolute Error (MAE): 8.138710637896512\n",
      "Mean Squared Error (MSE): 132.72772914283607\n",
      "Root Mean Squared Error (RMSE): 11.520752108384073\n"
     ]
    }
   ],
   "source": [
    "print(\"---- Neural Networks Regression - Model Evaluation ----\")\n",
    "print(\"Mean Absolute Error (MAE): {}\".format(mae(test_labels, neural_net.predict(test_features))))\n",
    "print(\"Mean Squared Error (MSE): {}\".format(mse(test_labels, neural_net.predict(test_features))))\n",
    "print(\"Root Mean Squared Error (RMSE): {}\".format(np.sqrt(mse(test_labels, neural_net.predict(test_features)))))"
   ]
  },
  {
   "cell_type": "markdown",
   "id": "2bd5690f",
   "metadata": {},
   "source": [
    "#  Best Model Selection"
   ]
  },
  {
   "cell_type": "code",
   "execution_count": 67,
   "id": "5ae7a1f4",
   "metadata": {},
   "outputs": [
    {
     "name": "stderr",
     "output_type": "stream",
     "text": [
      "C:\\ProgramData\\Anaconda3\\lib\\site-packages\\seaborn\\_decorators.py:36: FutureWarning: Pass the following variables as keyword args: x, y. From version 0.12, the only valid positional argument will be `data`, and passing other arguments without an explicit keyword will result in an error or misinterpretation.\n",
      "  warnings.warn(\n"
     ]
    },
    {
     "data": {
      "text/plain": [
       "<AxesSubplot:>"
      ]
     },
     "execution_count": 67,
     "metadata": {},
     "output_type": "execute_result"
    },
    {
     "data": {
      "image/png": "[encoded data removed]",
      "text/plain": [
       "<Figure size 432x288 with 1 Axes>"
      ]
     },
     "metadata": {
      "needs_background": "light"
     },
     "output_type": "display_data"
    }
   ],
   "source": [
    "from seaborn import barplot\n",
    "model_names = list(model.keys())\n",
    "accuracy = list(map(float, model.values()))\n",
    "barplot(model_names, accuracy)"
   ]
  },
  {
   "cell_type": "markdown",
   "id": "696a85b9",
   "metadata": {},
   "source": [
    "#  Predictions"
   ]
  },
  {
   "cell_type": "code",
   "execution_count": 68,
   "id": "78af0ba6",
   "metadata": {},
   "outputs": [],
   "source": [
    "def predict_score(batting_team, bowling_team, runs, wickets, overs, runs_last_5, wickets_last_5, model=forest):\n",
    "  prediction_array = []\n",
    "  # Batting Team\n",
    "  if batting_team == 'Chennai Super Kings':\n",
    "    prediction_array = prediction_array + [1,0,0,0,0,0,0,0]\n",
    "  elif batting_team == 'Delhi Daredevils':\n",
    "    prediction_array = prediction_array + [0,1,0,0,0,0,0,0]\n",
    "  elif batting_team == 'Kings XI Punjab':\n",
    "    prediction_array = prediction_array + [0,0,1,0,0,0,0,0]\n",
    "  elif batting_team == 'Kolkata Knight Riders':\n",
    "    prediction_array = prediction_array + [0,0,0,1,0,0,0,0]\n",
    "  elif batting_team == 'Mumbai Indians':\n",
    "    prediction_array = prediction_array + [0,0,0,0,1,0,0,0]\n",
    "  elif batting_team == 'Rajasthan Royals':\n",
    "    prediction_array = prediction_array + [0,0,0,0,0,1,0,0]\n",
    "  elif batting_team == 'Royal Challengers Bangalore':\n",
    "    prediction_array = prediction_array + [0,0,0,0,0,0,1,0]\n",
    "  elif batting_team == 'Sunrisers Hyderabad':\n",
    "    prediction_array = prediction_array + [0,0,0,0,0,0,0,1]\n",
    "  # Bowling Team\n",
    "  if bowling_team == 'Chennai Super Kings':\n",
    "    prediction_array = prediction_array + [1,0,0,0,0,0,0,0]\n",
    "  elif bowling_team == 'Delhi Daredevils':\n",
    "    prediction_array = prediction_array + [0,1,0,0,0,0,0,0]\n",
    "  elif bowling_team == 'Kings XI Punjab':\n",
    "    prediction_array = prediction_array + [0,0,1,0,0,0,0,0]\n",
    "  elif bowling_team == 'Kolkata Knight Riders':\n",
    "    prediction_array = prediction_array + [0,0,0,1,0,0,0,0]\n",
    "  elif bowling_team == 'Mumbai Indians':\n",
    "    prediction_array = prediction_array + [0,0,0,0,1,0,0,0]\n",
    "  elif bowling_team == 'Rajasthan Royals':\n",
    "    prediction_array = prediction_array + [0,0,0,0,0,1,0,0]\n",
    "  elif bowling_team == 'Royal Challengers Bangalore':\n",
    "    prediction_array = prediction_array + [0,0,0,0,0,0,1,0]\n",
    "  elif bowling_team == 'Sunrisers Hyderabad':\n",
    "    prediction_array = prediction_array + [0,0,0,0,0,0,0,1]\n",
    "  prediction_array = prediction_array + [runs, wickets, overs, runs_last_5, wickets_last_5]\n",
    "  prediction_array = np.array([prediction_array])\n",
    "  pred = model.predict(prediction_array)\n",
    "  return int(round(pred[0]))"
   ]
  },
  {
   "cell_type": "markdown",
   "id": "3da07d2b",
   "metadata": {},
   "source": [
    "### Test 1\n",
    "- Batting Team : **Delhi Daredevils**\n",
    "- Bowling Team : **Chennai Super Kings**\n",
    "- Final Score : **147/9**"
   ]
  },
  {
   "cell_type": "code",
   "execution_count": 69,
   "id": "21e403dc",
   "metadata": {},
   "outputs": [
    {
     "name": "stdout",
     "output_type": "stream",
     "text": [
      "Predicted Score : 146 || Actual Score : 147\n"
     ]
    },
    {
     "name": "stderr",
     "output_type": "stream",
     "text": [
      "C:\\ProgramData\\Anaconda3\\lib\\site-packages\\sklearn\\base.py:450: UserWarning: X does not have valid feature names, but RandomForestRegressor was fitted with feature names\n",
      "  warnings.warn(\n"
     ]
    }
   ],
   "source": [
    "batting_team='Delhi Daredevils'\n",
    "bowling_team='Chennai Super Kings'\n",
    "score = predict_score(batting_team, bowling_team, overs=10.2, runs=68, wickets=3, runs_last_5=29, wickets_last_5=1)\n",
    "print(f'Predicted Score : {score} || Actual Score : 147')"
   ]
  },
  {
   "cell_type": "markdown",
   "id": "1936396a",
   "metadata": {},
   "source": [
    "### Test 2\n",
    "- Batting Team : **Mumbai Indians**\n",
    "- Bowling Team : **Kings XI Punjab**\n",
    "- Final Score : **176/7**"
   ]
  },
  {
   "cell_type": "code",
   "execution_count": 70,
   "id": "7e0767e2",
   "metadata": {},
   "outputs": [
    {
     "name": "stdout",
     "output_type": "stream",
     "text": [
      "Predicted Score : 190 || Actual Score : 176\n"
     ]
    },
    {
     "name": "stderr",
     "output_type": "stream",
     "text": [
      "C:\\ProgramData\\Anaconda3\\lib\\site-packages\\sklearn\\base.py:450: UserWarning: X does not have valid feature names, but RandomForestRegressor was fitted with feature names\n",
      "  warnings.warn(\n"
     ]
    }
   ],
   "source": [
    "batting_team='Mumbai Indians'\n",
    "bowling_team='Kings XI Punjab'\n",
    "score = predict_score(batting_team, bowling_team, overs=12.3, runs=113, wickets=2, runs_last_5=55, wickets_last_5=0)\n",
    "print(f'Predicted Score : {score} || Actual Score : 176')"
   ]
  },
  {
   "cell_type": "markdown",
   "id": "392cca1f",
   "metadata": {},
   "source": [
    "### Live* Test 1 (2024 season)\n",
    "- Batting Team : **Kings XI Punjab**\n",
    "- Bowling Team : **Rajasthan Royals**\n",
    "- Final Score : **185/4**\n",
    "<br/>\n",
    "These Test Was done before the match and final score were added later."
   ]
  },
  {
   "cell_type": "code",
   "execution_count": 71,
   "id": "7f9127ba",
   "metadata": {},
   "outputs": [
    {
     "name": "stdout",
     "output_type": "stream",
     "text": [
      "Predicted Score : 180 || Actual Score : 185\n"
     ]
    },
    {
     "name": "stderr",
     "output_type": "stream",
     "text": [
      "C:\\ProgramData\\Anaconda3\\lib\\site-packages\\sklearn\\base.py:450: UserWarning: X does not have valid feature names, but RandomForestRegressor was fitted with feature names\n",
      "  warnings.warn(\n"
     ]
    }
   ],
   "source": [
    "# Live Test\n",
    "batting_team=\"Kings XI Punjab\"\n",
    "bowling_team=\"Rajasthan Royals\"\n",
    "score = predict_score(batting_team, bowling_team, overs=14.0, runs=118, wickets=1, runs_last_5=45, wickets_last_5=0)\n",
    "print(f'Predicted Score : {score} || Actual Score : 185')"
   ]
  },
  {
   "cell_type": "markdown",
   "id": "aa259cc8",
   "metadata": {},
   "source": [
    "### Live Test 2 (2020 Season)\n",
    "- Batting Team : **Kolkata Knight Riders**\n",
    "- Bowling Team : **Chennai Super Kings**\n",
    "- Final Score : **172/5**"
   ]
  },
  {
   "cell_type": "code",
   "execution_count": 72,
   "id": "0b5bb57e",
   "metadata": {},
   "outputs": [
    {
     "name": "stdout",
     "output_type": "stream",
     "text": [
      "Predicted Score : 175 || Actual Score : 172\n"
     ]
    },
    {
     "name": "stderr",
     "output_type": "stream",
     "text": [
      "C:\\ProgramData\\Anaconda3\\lib\\site-packages\\sklearn\\base.py:450: UserWarning: X does not have valid feature names, but RandomForestRegressor was fitted with feature names\n",
      "  warnings.warn(\n"
     ]
    }
   ],
   "source": [
    "#Live Test\n",
    "batting_team=\"Kolkata Knight Riders\"\n",
    "bowling_team=\"Chennai Super Kings\"\n",
    "score = predict_score(batting_team, bowling_team, overs=18.0, runs=150, wickets=4, runs_last_5=57, wickets_last_5=1)\n",
    "print(f'Predicted Score : {score} || Actual Score : 172')"
   ]
  },
  {
   "cell_type": "markdown",
   "id": "d81aab0f",
   "metadata": {},
   "source": [
    "### Live Test 3 (2020 Season)\n",
    "- Batting Team : **Delhi Daredevils**\n",
    "- Bowling Team : **Mumbai Indians**\n",
    "- Final Score : **110/7**"
   ]
  },
  {
   "cell_type": "code",
   "execution_count": 73,
   "id": "5513164a",
   "metadata": {},
   "outputs": [
    {
     "name": "stdout",
     "output_type": "stream",
     "text": [
      "Predicted Score : 108 || Actual Score : 110\n"
     ]
    },
    {
     "name": "stderr",
     "output_type": "stream",
     "text": [
      "C:\\ProgramData\\Anaconda3\\lib\\site-packages\\sklearn\\base.py:450: UserWarning: X does not have valid feature names, but RandomForestRegressor was fitted with feature names\n",
      "  warnings.warn(\n"
     ]
    }
   ],
   "source": [
    "batting_team='Delhi Daredevils'\n",
    "bowling_team='Mumbai Indians'\n",
    "score = predict_score(batting_team, bowling_team, overs=18.0, runs=96, wickets=8, runs_last_5=18, wickets_last_5=4)\n",
    "print(f'Predicted Score : {score} || Actual Score : 110')"
   ]
  },
  {
   "cell_type": "markdown",
   "id": "8fcc8947",
   "metadata": {},
   "source": [
    "# Export Model"
   ]
  },
  {
   "cell_type": "code",
   "execution_count": 74,
   "id": "7806a540",
   "metadata": {},
   "outputs": [
    {
     "data": {
      "text/plain": [
       "['neural_nets_model.pkl']"
      ]
     },
     "execution_count": 74,
     "metadata": {},
     "output_type": "execute_result"
    }
   ],
   "source": [
    "from joblib import dump\n",
    "\n",
    "dump(forest, \"forest_model.pkl\")\n",
    "dump(tree, \"tree_model.pkl\")\n",
    "dump(neural_net, \"neural_nets_model.pkl\")"
   ]
  },
  {
   "cell_type": "code",
   "execution_count": null,
   "id": "f80cbb0f",
   "metadata": {},
   "outputs": [],
   "source": []
  }
 ],
 "metadata": {
  "kernelspec": {
   "display_name": "Python 3 (ipykernel)",
   "language": "python",
   "name": "python3"
  },
  "language_info": {
   "codemirror_mode": {
    "name": "ipython",
    "version": 3
   },
   "file_extension": ".py",
   "mimetype": "text/x-python",
   "name": "python",
   "nbconvert_exporter": "python",
   "pygments_lexer": "ipython3",
   "version": "3.9.12"
  }
 },
 "nbformat": 4,
 "nbformat_minor": 5
}
