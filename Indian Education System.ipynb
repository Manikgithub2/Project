{
 "cells": [
  {
   "cell_type": "code",
   "execution_count": 1,
   "id": "756acf38",
   "metadata": {},
   "outputs": [],
   "source": [
    "import pandas as pd"
   ]
  },
  {
   "cell_type": "code",
   "execution_count": 2,
   "id": "a27850c0",
   "metadata": {},
   "outputs": [],
   "source": [
    "import numpy as np"
   ]
  },
  {
   "cell_type": "code",
   "execution_count": 3,
   "id": "bf997b17",
   "metadata": {},
   "outputs": [],
   "source": [
    "System=pd.read_csv(\"dropout-ratio-2012-2015.csv\")"
   ]
  },
  {
   "cell_type": "code",
   "execution_count": 4,
   "id": "e7dda270",
   "metadata": {},
   "outputs": [
    {
     "data": {
      "text/html": [
       "<div>\n",
       "<style scoped>\n",
       "    .dataframe tbody tr th:only-of-type {\n",
       "        vertical-align: middle;\n",
       "    }\n",
       "\n",
       "    .dataframe tbody tr th {\n",
       "        vertical-align: top;\n",
       "    }\n",
       "\n",
       "    .dataframe thead th {\n",
       "        text-align: right;\n",
       "    }\n",
       "</style>\n",
       "<table border=\"1\" class=\"dataframe\">\n",
       "  <thead>\n",
       "    <tr style=\"text-align: right;\">\n",
       "      <th></th>\n",
       "      <th>State_UT</th>\n",
       "      <th>year</th>\n",
       "      <th>Primary_Boys</th>\n",
       "      <th>Primary_Girls</th>\n",
       "      <th>Primary_Total</th>\n",
       "      <th>Upper Primary_Boys</th>\n",
       "      <th>Upper Primary_Girls</th>\n",
       "      <th>Upper Primary_Total</th>\n",
       "      <th>Secondary _Boys</th>\n",
       "      <th>Secondary _Girls</th>\n",
       "      <th>Secondary _Total</th>\n",
       "      <th>HrSecondary_Boys</th>\n",
       "      <th>HrSecondary_Girls</th>\n",
       "      <th>HrSecondary_Total</th>\n",
       "    </tr>\n",
       "  </thead>\n",
       "  <tbody>\n",
       "    <tr>\n",
       "      <th>0</th>\n",
       "      <td>A &amp; N Islands</td>\n",
       "      <td>2012-13</td>\n",
       "      <td>0.83</td>\n",
       "      <td>0.51</td>\n",
       "      <td>0.68</td>\n",
       "      <td>Uppe_r_Primary</td>\n",
       "      <td>1.09</td>\n",
       "      <td>1.23</td>\n",
       "      <td>5.57</td>\n",
       "      <td>5.55</td>\n",
       "      <td>5.56</td>\n",
       "      <td>17.66</td>\n",
       "      <td>10.15</td>\n",
       "      <td>14.14</td>\n",
       "    </tr>\n",
       "    <tr>\n",
       "      <th>1</th>\n",
       "      <td>A &amp; N Islands</td>\n",
       "      <td>2013-14</td>\n",
       "      <td>1.35</td>\n",
       "      <td>1.06</td>\n",
       "      <td>1.21</td>\n",
       "      <td>NR</td>\n",
       "      <td>1.54</td>\n",
       "      <td>0.51</td>\n",
       "      <td>8.36</td>\n",
       "      <td>5.98</td>\n",
       "      <td>7.2</td>\n",
       "      <td>18.94</td>\n",
       "      <td>12.2</td>\n",
       "      <td>15.87</td>\n",
       "    </tr>\n",
       "    <tr>\n",
       "      <th>2</th>\n",
       "      <td>A &amp; N Islands</td>\n",
       "      <td>2014-15</td>\n",
       "      <td>0.47</td>\n",
       "      <td>0.55</td>\n",
       "      <td>0.51</td>\n",
       "      <td>1.44</td>\n",
       "      <td>1.95</td>\n",
       "      <td>1.69</td>\n",
       "      <td>11.47</td>\n",
       "      <td>8.16</td>\n",
       "      <td>9.87</td>\n",
       "      <td>21.05</td>\n",
       "      <td>12.21</td>\n",
       "      <td>16.93</td>\n",
       "    </tr>\n",
       "    <tr>\n",
       "      <th>3</th>\n",
       "      <td>Andhra Pradesh</td>\n",
       "      <td>2012-13</td>\n",
       "      <td>3.3</td>\n",
       "      <td>3.05</td>\n",
       "      <td>3.18</td>\n",
       "      <td>3.21</td>\n",
       "      <td>3.51</td>\n",
       "      <td>3.36</td>\n",
       "      <td>12.21</td>\n",
       "      <td>13.25</td>\n",
       "      <td>12.72</td>\n",
       "      <td>2.66</td>\n",
       "      <td>NR</td>\n",
       "      <td>0.35</td>\n",
       "    </tr>\n",
       "    <tr>\n",
       "      <th>4</th>\n",
       "      <td>Andhra Pradesh</td>\n",
       "      <td>2013-14</td>\n",
       "      <td>4.31</td>\n",
       "      <td>4.39</td>\n",
       "      <td>4.35</td>\n",
       "      <td>3.46</td>\n",
       "      <td>4.12</td>\n",
       "      <td>3.78</td>\n",
       "      <td>11.95</td>\n",
       "      <td>13.37</td>\n",
       "      <td>12.65</td>\n",
       "      <td>12.65</td>\n",
       "      <td>10.85</td>\n",
       "      <td>11.79</td>\n",
       "    </tr>\n",
       "  </tbody>\n",
       "</table>\n",
       "</div>"
      ],
      "text/plain": [
       "         State_UT     year Primary_Boys Primary_Girls Primary_Total  \\\n",
       "0   A & N Islands  2012-13         0.83          0.51          0.68   \n",
       "1   A & N Islands  2013-14         1.35          1.06          1.21   \n",
       "2   A & N Islands  2014-15         0.47          0.55          0.51   \n",
       "3  Andhra Pradesh  2012-13          3.3          3.05          3.18   \n",
       "4  Andhra Pradesh  2013-14         4.31          4.39          4.35   \n",
       "\n",
       "  Upper Primary_Boys Upper Primary_Girls Upper Primary_Total Secondary _Boys  \\\n",
       "0     Uppe_r_Primary                1.09                1.23            5.57   \n",
       "1                 NR                1.54                0.51            8.36   \n",
       "2               1.44                1.95                1.69           11.47   \n",
       "3               3.21                3.51                3.36           12.21   \n",
       "4               3.46                4.12                3.78           11.95   \n",
       "\n",
       "  Secondary _Girls Secondary _Total HrSecondary_Boys HrSecondary_Girls  \\\n",
       "0             5.55             5.56            17.66             10.15   \n",
       "1             5.98              7.2            18.94              12.2   \n",
       "2             8.16             9.87            21.05             12.21   \n",
       "3            13.25            12.72             2.66                NR   \n",
       "4            13.37            12.65            12.65             10.85   \n",
       "\n",
       "  HrSecondary_Total  \n",
       "0             14.14  \n",
       "1             15.87  \n",
       "2             16.93  \n",
       "3              0.35  \n",
       "4             11.79  "
      ]
     },
     "execution_count": 4,
     "metadata": {},
     "output_type": "execute_result"
    }
   ],
   "source": [
    "System.head()"
   ]
  },
  {
   "cell_type": "code",
   "execution_count": 5,
   "id": "69dba855",
   "metadata": {},
   "outputs": [
    {
     "data": {
      "text/plain": [
       "Index(['State_UT', 'year', 'Primary_Boys', 'Primary_Girls', 'Primary_Total',\n",
       "       'Upper Primary_Boys', 'Upper Primary_Girls', 'Upper Primary_Total',\n",
       "       'Secondary _Boys', 'Secondary _Girls', 'Secondary _Total',\n",
       "       'HrSecondary_Boys', 'HrSecondary_Girls', 'HrSecondary_Total'],\n",
       "      dtype='object')"
      ]
     },
     "execution_count": 5,
     "metadata": {},
     "output_type": "execute_result"
    }
   ],
   "source": [
    "System.columns"
   ]
  },
  {
   "cell_type": "code",
   "execution_count": 6,
   "id": "d0c8610e",
   "metadata": {},
   "outputs": [
    {
     "data": {
      "text/html": [
       "<div>\n",
       "<style scoped>\n",
       "    .dataframe tbody tr th:only-of-type {\n",
       "        vertical-align: middle;\n",
       "    }\n",
       "\n",
       "    .dataframe tbody tr th {\n",
       "        vertical-align: top;\n",
       "    }\n",
       "\n",
       "    .dataframe thead th {\n",
       "        text-align: right;\n",
       "    }\n",
       "</style>\n",
       "<table border=\"1\" class=\"dataframe\">\n",
       "  <thead>\n",
       "    <tr style=\"text-align: right;\">\n",
       "      <th></th>\n",
       "      <th>State_UT</th>\n",
       "      <th>year</th>\n",
       "      <th>Primary_Boys</th>\n",
       "      <th>Primary_Girls</th>\n",
       "      <th>Primary_Total</th>\n",
       "      <th>Upper Primary_Boys</th>\n",
       "      <th>Upper Primary_Girls</th>\n",
       "      <th>Upper Primary_Total</th>\n",
       "      <th>Secondary _Boys</th>\n",
       "      <th>Secondary _Girls</th>\n",
       "      <th>Secondary _Total</th>\n",
       "      <th>HrSecondary_Boys</th>\n",
       "      <th>HrSecondary_Girls</th>\n",
       "      <th>HrSecondary_Total</th>\n",
       "    </tr>\n",
       "  </thead>\n",
       "  <tbody>\n",
       "    <tr>\n",
       "      <th>0</th>\n",
       "      <td>False</td>\n",
       "      <td>False</td>\n",
       "      <td>False</td>\n",
       "      <td>False</td>\n",
       "      <td>False</td>\n",
       "      <td>False</td>\n",
       "      <td>False</td>\n",
       "      <td>False</td>\n",
       "      <td>False</td>\n",
       "      <td>False</td>\n",
       "      <td>False</td>\n",
       "      <td>False</td>\n",
       "      <td>False</td>\n",
       "      <td>False</td>\n",
       "    </tr>\n",
       "    <tr>\n",
       "      <th>1</th>\n",
       "      <td>False</td>\n",
       "      <td>False</td>\n",
       "      <td>False</td>\n",
       "      <td>False</td>\n",
       "      <td>False</td>\n",
       "      <td>False</td>\n",
       "      <td>False</td>\n",
       "      <td>False</td>\n",
       "      <td>False</td>\n",
       "      <td>False</td>\n",
       "      <td>False</td>\n",
       "      <td>False</td>\n",
       "      <td>False</td>\n",
       "      <td>False</td>\n",
       "    </tr>\n",
       "    <tr>\n",
       "      <th>2</th>\n",
       "      <td>False</td>\n",
       "      <td>False</td>\n",
       "      <td>False</td>\n",
       "      <td>False</td>\n",
       "      <td>False</td>\n",
       "      <td>False</td>\n",
       "      <td>False</td>\n",
       "      <td>False</td>\n",
       "      <td>False</td>\n",
       "      <td>False</td>\n",
       "      <td>False</td>\n",
       "      <td>False</td>\n",
       "      <td>False</td>\n",
       "      <td>False</td>\n",
       "    </tr>\n",
       "    <tr>\n",
       "      <th>3</th>\n",
       "      <td>False</td>\n",
       "      <td>False</td>\n",
       "      <td>False</td>\n",
       "      <td>False</td>\n",
       "      <td>False</td>\n",
       "      <td>False</td>\n",
       "      <td>False</td>\n",
       "      <td>False</td>\n",
       "      <td>False</td>\n",
       "      <td>False</td>\n",
       "      <td>False</td>\n",
       "      <td>False</td>\n",
       "      <td>False</td>\n",
       "      <td>False</td>\n",
       "    </tr>\n",
       "    <tr>\n",
       "      <th>4</th>\n",
       "      <td>False</td>\n",
       "      <td>False</td>\n",
       "      <td>False</td>\n",
       "      <td>False</td>\n",
       "      <td>False</td>\n",
       "      <td>False</td>\n",
       "      <td>False</td>\n",
       "      <td>False</td>\n",
       "      <td>False</td>\n",
       "      <td>False</td>\n",
       "      <td>False</td>\n",
       "      <td>False</td>\n",
       "      <td>False</td>\n",
       "      <td>False</td>\n",
       "    </tr>\n",
       "    <tr>\n",
       "      <th>...</th>\n",
       "      <td>...</td>\n",
       "      <td>...</td>\n",
       "      <td>...</td>\n",
       "      <td>...</td>\n",
       "      <td>...</td>\n",
       "      <td>...</td>\n",
       "      <td>...</td>\n",
       "      <td>...</td>\n",
       "      <td>...</td>\n",
       "      <td>...</td>\n",
       "      <td>...</td>\n",
       "      <td>...</td>\n",
       "      <td>...</td>\n",
       "      <td>...</td>\n",
       "    </tr>\n",
       "    <tr>\n",
       "      <th>105</th>\n",
       "      <td>False</td>\n",
       "      <td>False</td>\n",
       "      <td>False</td>\n",
       "      <td>False</td>\n",
       "      <td>False</td>\n",
       "      <td>False</td>\n",
       "      <td>False</td>\n",
       "      <td>False</td>\n",
       "      <td>False</td>\n",
       "      <td>False</td>\n",
       "      <td>False</td>\n",
       "      <td>False</td>\n",
       "      <td>False</td>\n",
       "      <td>False</td>\n",
       "    </tr>\n",
       "    <tr>\n",
       "      <th>106</th>\n",
       "      <td>False</td>\n",
       "      <td>False</td>\n",
       "      <td>False</td>\n",
       "      <td>False</td>\n",
       "      <td>False</td>\n",
       "      <td>False</td>\n",
       "      <td>False</td>\n",
       "      <td>False</td>\n",
       "      <td>False</td>\n",
       "      <td>False</td>\n",
       "      <td>False</td>\n",
       "      <td>False</td>\n",
       "      <td>False</td>\n",
       "      <td>False</td>\n",
       "    </tr>\n",
       "    <tr>\n",
       "      <th>107</th>\n",
       "      <td>False</td>\n",
       "      <td>False</td>\n",
       "      <td>False</td>\n",
       "      <td>False</td>\n",
       "      <td>False</td>\n",
       "      <td>False</td>\n",
       "      <td>False</td>\n",
       "      <td>False</td>\n",
       "      <td>False</td>\n",
       "      <td>False</td>\n",
       "      <td>False</td>\n",
       "      <td>False</td>\n",
       "      <td>False</td>\n",
       "      <td>False</td>\n",
       "    </tr>\n",
       "    <tr>\n",
       "      <th>108</th>\n",
       "      <td>False</td>\n",
       "      <td>False</td>\n",
       "      <td>False</td>\n",
       "      <td>False</td>\n",
       "      <td>False</td>\n",
       "      <td>False</td>\n",
       "      <td>False</td>\n",
       "      <td>False</td>\n",
       "      <td>False</td>\n",
       "      <td>False</td>\n",
       "      <td>False</td>\n",
       "      <td>False</td>\n",
       "      <td>False</td>\n",
       "      <td>False</td>\n",
       "    </tr>\n",
       "    <tr>\n",
       "      <th>109</th>\n",
       "      <td>False</td>\n",
       "      <td>False</td>\n",
       "      <td>False</td>\n",
       "      <td>False</td>\n",
       "      <td>False</td>\n",
       "      <td>False</td>\n",
       "      <td>False</td>\n",
       "      <td>False</td>\n",
       "      <td>False</td>\n",
       "      <td>False</td>\n",
       "      <td>False</td>\n",
       "      <td>False</td>\n",
       "      <td>False</td>\n",
       "      <td>False</td>\n",
       "    </tr>\n",
       "  </tbody>\n",
       "</table>\n",
       "<p>110 rows × 14 columns</p>\n",
       "</div>"
      ],
      "text/plain": [
       "     State_UT   year  Primary_Boys  Primary_Girls  Primary_Total  \\\n",
       "0       False  False         False          False          False   \n",
       "1       False  False         False          False          False   \n",
       "2       False  False         False          False          False   \n",
       "3       False  False         False          False          False   \n",
       "4       False  False         False          False          False   \n",
       "..        ...    ...           ...            ...            ...   \n",
       "105     False  False         False          False          False   \n",
       "106     False  False         False          False          False   \n",
       "107     False  False         False          False          False   \n",
       "108     False  False         False          False          False   \n",
       "109     False  False         False          False          False   \n",
       "\n",
       "     Upper Primary_Boys  Upper Primary_Girls  Upper Primary_Total  \\\n",
       "0                 False                False                False   \n",
       "1                 False                False                False   \n",
       "2                 False                False                False   \n",
       "3                 False                False                False   \n",
       "4                 False                False                False   \n",
       "..                  ...                  ...                  ...   \n",
       "105               False                False                False   \n",
       "106               False                False                False   \n",
       "107               False                False                False   \n",
       "108               False                False                False   \n",
       "109               False                False                False   \n",
       "\n",
       "     Secondary _Boys  Secondary _Girls  Secondary _Total  HrSecondary_Boys  \\\n",
       "0              False             False             False             False   \n",
       "1              False             False             False             False   \n",
       "2              False             False             False             False   \n",
       "3              False             False             False             False   \n",
       "4              False             False             False             False   \n",
       "..               ...               ...               ...               ...   \n",
       "105            False             False             False             False   \n",
       "106            False             False             False             False   \n",
       "107            False             False             False             False   \n",
       "108            False             False             False             False   \n",
       "109            False             False             False             False   \n",
       "\n",
       "     HrSecondary_Girls  HrSecondary_Total  \n",
       "0                False              False  \n",
       "1                False              False  \n",
       "2                False              False  \n",
       "3                False              False  \n",
       "4                False              False  \n",
       "..                 ...                ...  \n",
       "105              False              False  \n",
       "106              False              False  \n",
       "107              False              False  \n",
       "108              False              False  \n",
       "109              False              False  \n",
       "\n",
       "[110 rows x 14 columns]"
      ]
     },
     "execution_count": 6,
     "metadata": {},
     "output_type": "execute_result"
    }
   ],
   "source": [
    "#missing value founding\n",
    "System.isna()"
   ]
  },
  {
   "cell_type": "code",
   "execution_count": 7,
   "id": "1bb12051",
   "metadata": {},
   "outputs": [
    {
     "data": {
      "text/plain": [
       "State_UT               False\n",
       "year                   False\n",
       "Primary_Boys           False\n",
       "Primary_Girls          False\n",
       "Primary_Total          False\n",
       "Upper Primary_Boys     False\n",
       "Upper Primary_Girls    False\n",
       "Upper Primary_Total    False\n",
       "Secondary _Boys        False\n",
       "Secondary _Girls       False\n",
       "Secondary _Total       False\n",
       "HrSecondary_Boys       False\n",
       "HrSecondary_Girls      False\n",
       "HrSecondary_Total      False\n",
       "dtype: bool"
      ]
     },
     "execution_count": 7,
     "metadata": {},
     "output_type": "execute_result"
    }
   ],
   "source": [
    "System.isna().any()"
   ]
  },
  {
   "cell_type": "code",
   "execution_count": 8,
   "id": "08bcb8a6",
   "metadata": {},
   "outputs": [
    {
     "name": "stdout",
     "output_type": "stream",
     "text": [
      "        State_UT     year Primary_Boys Primary_Girls Primary_Total  \\\n",
      "104  West Bengal  2012-13         6.88          5.71           6.3   \n",
      "105  West Bengal  2013-14         3.44          2.37          2.91   \n",
      "106  West Bengal  2014-15         2.13          0.79          1.47   \n",
      "\n",
      "    Upper Primary_Boys Upper Primary_Girls Upper Primary_Total  \\\n",
      "104               6.29                4.16                5.18   \n",
      "105               5.63                 3.1                4.31   \n",
      "106               5.84                2.88                 4.3   \n",
      "\n",
      "    Secondary _Boys Secondary _Girls Secondary _Total HrSecondary_Boys  \\\n",
      "104           14.95            19.41             17.3             7.81   \n",
      "105           16.73            19.77            18.34             8.03   \n",
      "106           16.33            19.06             17.8             8.18   \n",
      "\n",
      "    HrSecondary_Girls HrSecondary_Total  \n",
      "104              8.49              8.13  \n",
      "105              7.76               7.9  \n",
      "106              8.04              8.11  \n"
     ]
    }
   ],
   "source": [
    "# Pirticullar state dropout ratio\n",
    "data_wb=System[System['State_UT']=='West Bengal']\n",
    "print(data_wb.head())"
   ]
  },
  {
   "cell_type": "code",
   "execution_count": 9,
   "id": "74d60afe",
   "metadata": {},
   "outputs": [
    {
     "data": {
      "text/html": [
       "<div>\n",
       "<style scoped>\n",
       "    .dataframe tbody tr th:only-of-type {\n",
       "        vertical-align: middle;\n",
       "    }\n",
       "\n",
       "    .dataframe tbody tr th {\n",
       "        vertical-align: top;\n",
       "    }\n",
       "\n",
       "    .dataframe thead th {\n",
       "        text-align: right;\n",
       "    }\n",
       "</style>\n",
       "<table border=\"1\" class=\"dataframe\">\n",
       "  <thead>\n",
       "    <tr style=\"text-align: right;\">\n",
       "      <th></th>\n",
       "      <th>State_UT</th>\n",
       "      <th>year</th>\n",
       "      <th>Primary_Boys</th>\n",
       "      <th>Primary_Girls</th>\n",
       "      <th>Primary_Total</th>\n",
       "      <th>Upper Primary_Boys</th>\n",
       "      <th>Upper Primary_Girls</th>\n",
       "      <th>Upper Primary_Total</th>\n",
       "      <th>Secondary _Boys</th>\n",
       "      <th>Secondary _Girls</th>\n",
       "      <th>Secondary _Total</th>\n",
       "      <th>HrSecondary_Boys</th>\n",
       "      <th>HrSecondary_Girls</th>\n",
       "      <th>HrSecondary_Total</th>\n",
       "    </tr>\n",
       "  </thead>\n",
       "  <tbody>\n",
       "    <tr>\n",
       "      <th>104</th>\n",
       "      <td>West Bengal</td>\n",
       "      <td>2012-13</td>\n",
       "      <td>6.88</td>\n",
       "      <td>5.71</td>\n",
       "      <td>6.3</td>\n",
       "      <td>6.29</td>\n",
       "      <td>4.16</td>\n",
       "      <td>5.18</td>\n",
       "      <td>14.95</td>\n",
       "      <td>19.41</td>\n",
       "      <td>17.3</td>\n",
       "      <td>7.81</td>\n",
       "      <td>8.49</td>\n",
       "      <td>8.13</td>\n",
       "    </tr>\n",
       "    <tr>\n",
       "      <th>105</th>\n",
       "      <td>West Bengal</td>\n",
       "      <td>2013-14</td>\n",
       "      <td>3.44</td>\n",
       "      <td>2.37</td>\n",
       "      <td>2.91</td>\n",
       "      <td>5.63</td>\n",
       "      <td>3.1</td>\n",
       "      <td>4.31</td>\n",
       "      <td>16.73</td>\n",
       "      <td>19.77</td>\n",
       "      <td>18.34</td>\n",
       "      <td>8.03</td>\n",
       "      <td>7.76</td>\n",
       "      <td>7.9</td>\n",
       "    </tr>\n",
       "    <tr>\n",
       "      <th>106</th>\n",
       "      <td>West Bengal</td>\n",
       "      <td>2014-15</td>\n",
       "      <td>2.13</td>\n",
       "      <td>0.79</td>\n",
       "      <td>1.47</td>\n",
       "      <td>5.84</td>\n",
       "      <td>2.88</td>\n",
       "      <td>4.3</td>\n",
       "      <td>16.33</td>\n",
       "      <td>19.06</td>\n",
       "      <td>17.8</td>\n",
       "      <td>8.18</td>\n",
       "      <td>8.04</td>\n",
       "      <td>8.11</td>\n",
       "    </tr>\n",
       "  </tbody>\n",
       "</table>\n",
       "</div>"
      ],
      "text/plain": [
       "        State_UT     year Primary_Boys Primary_Girls Primary_Total  \\\n",
       "104  West Bengal  2012-13         6.88          5.71           6.3   \n",
       "105  West Bengal  2013-14         3.44          2.37          2.91   \n",
       "106  West Bengal  2014-15         2.13          0.79          1.47   \n",
       "\n",
       "    Upper Primary_Boys Upper Primary_Girls Upper Primary_Total  \\\n",
       "104               6.29                4.16                5.18   \n",
       "105               5.63                 3.1                4.31   \n",
       "106               5.84                2.88                 4.3   \n",
       "\n",
       "    Secondary _Boys Secondary _Girls Secondary _Total HrSecondary_Boys  \\\n",
       "104           14.95            19.41             17.3             7.81   \n",
       "105           16.73            19.77            18.34             8.03   \n",
       "106           16.33            19.06             17.8             8.18   \n",
       "\n",
       "    HrSecondary_Girls HrSecondary_Total  \n",
       "104              8.49              8.13  \n",
       "105              7.76               7.9  \n",
       "106              8.04              8.11  "
      ]
     },
     "execution_count": 9,
     "metadata": {},
     "output_type": "execute_result"
    }
   ],
   "source": [
    "data_wb"
   ]
  },
  {
   "cell_type": "code",
   "execution_count": 10,
   "id": "b95abb88",
   "metadata": {},
   "outputs": [
    {
     "name": "stdout",
     "output_type": "stream",
     "text": [
      "<class 'pandas.core.frame.DataFrame'>\n",
      "Int64Index: 3 entries, 104 to 106\n",
      "Data columns (total 14 columns):\n",
      " #   Column               Non-Null Count  Dtype \n",
      "---  ------               --------------  ----- \n",
      " 0   State_UT             3 non-null      object\n",
      " 1   year                 3 non-null      object\n",
      " 2   Primary_Boys         3 non-null      object\n",
      " 3   Primary_Girls        3 non-null      object\n",
      " 4   Primary_Total        3 non-null      object\n",
      " 5   Upper Primary_Boys   3 non-null      object\n",
      " 6   Upper Primary_Girls  3 non-null      object\n",
      " 7   Upper Primary_Total  3 non-null      object\n",
      " 8   Secondary _Boys      3 non-null      object\n",
      " 9   Secondary _Girls     3 non-null      object\n",
      " 10  Secondary _Total     3 non-null      object\n",
      " 11  HrSecondary_Boys     3 non-null      object\n",
      " 12  HrSecondary_Girls    3 non-null      object\n",
      " 13  HrSecondary_Total    3 non-null      object\n",
      "dtypes: object(14)\n",
      "memory usage: 360.0+ bytes\n"
     ]
    }
   ],
   "source": [
    "# Is their any null value or not\n",
    "data_wb.info()"
   ]
  },
  {
   "cell_type": "code",
   "execution_count": 11,
   "id": "d67b57bd",
   "metadata": {},
   "outputs": [
    {
     "data": {
      "text/plain": [
       "array(['0.83', '1.35', '0.47', '3.3', '4.31', '6.57', '11.54', '15.84',\n",
       "       '11.51', '7.02', '8.19', '16.07', 'NR', '2.38', '0.35', 'NR', 'NR',\n",
       "       'NR', '4.24', '1.45', '3.08', 'NR', '1.05', '1.6', 'NR', '1.06',\n",
       "       '1.8', 'NR', 'NR', 'NR', 'NR', '0.08', '0.63', '0.21', '0.5',\n",
       "       '0.82', '1.48', '0.22', '5.54', '0.51', '0.57', '0.46', '6.8',\n",
       "       '5.53', '6.98', '7.36', '6.89', '5.91', '3.4', '2.42', '2.03',\n",
       "       'NR', 'NR', 'NR', '2.3', '0', 'NR', '5.75', '9.91', '6.48', '0.88',\n",
       "       '0.51', '1.26', '10.24', '17.27', '9.5', '11.32', '11.3', '10.35',\n",
       "       '24.27', '12.57', '10.17', '7.11', '19.09', '6.18', '3.63', '2.83',\n",
       "       '2.91', '0.25', '0.76', '0.36', '1.99', '1.35', '2.89', '7.2',\n",
       "       '7.76', '5.02', '4.78', '5.55', '3.75', '4.02', '0.53', 'NR',\n",
       "       '6.04', '2.21', '2.31', '3.63', '1.37', '10.53', '7.91', '9.08',\n",
       "       '1.14', '3.28', '4.37', '6.88', '3.44', '2.13', '4.68', '4.53',\n",
       "       '4.36'], dtype=object)"
      ]
     },
     "execution_count": 11,
     "metadata": {},
     "output_type": "execute_result"
    }
   ],
   "source": [
    "System['Primary_Boys'].values"
   ]
  },
  {
   "cell_type": "code",
   "execution_count": 12,
   "id": "06f4dba3",
   "metadata": {},
   "outputs": [],
   "source": [
    "#Replace Inner Value\n",
    "System=System.replace('NR',0)"
   ]
  },
  {
   "cell_type": "code",
   "execution_count": 13,
   "id": "15592399",
   "metadata": {},
   "outputs": [],
   "source": [
    "System['Primary_Boys']=System['Primary_Boys'].apply(lambda x: float(x))"
   ]
  },
  {
   "cell_type": "code",
   "execution_count": 14,
   "id": "8a67deea",
   "metadata": {},
   "outputs": [],
   "source": [
    "System['Primary_Girls']=System['Primary_Girls'].values.astype(np.float32)"
   ]
  },
  {
   "cell_type": "code",
   "execution_count": 15,
   "id": "d9cbcb5c",
   "metadata": {},
   "outputs": [
    {
     "data": {
      "text/plain": [
       "array(['Uppe_r_Primary', 0, '1.44', '3.21', '3.46', '5.09', '4.44',\n",
       "       '5.86', '5.31', '7.89', '7.6', '10.45', 0, '2.77', '4.14', 0,\n",
       "       '0.72', '0.01', '6.09', '4.09', '6.47', '2.59', '3.31', '3.7', 0,\n",
       "       '3.42', '3.14', 0, '3.13', '0.95', 0, 0, 0, '2.75', '3.52', '4.65',\n",
       "       '0.18', '1.97', '5.5', '0.52', '0.6', '0.5', '5.51', '3.86',\n",
       "       '4.98', '4.99', '7.19', '9.01', '4.96', '2.31', '3.46', 0, 0, 0,\n",
       "       '0.97', '1.16', '2.37', '6.79', '9.88', '7.78', '0.89', 0, '0.89',\n",
       "       '5.48', '7.48', '3.61', '8.43', '6.34', '6.77', '19.35', '6.61',\n",
       "       '5.46', '10.15', '18.08', '7.87', '4.1', '3.11', '4.11', '0.33',\n",
       "       '0.37', '0.44', '2.58', '2.52', '2.95', '2.86', '4.49', '2.54',\n",
       "       '2.6', '6.35', '2.07', '0.38', '4.38', 0, '4.63', '2.43', '3.1',\n",
       "       '3.21', '2.37', 0, 0, '0.78', 0, '1.78', '0.79', '6.29', '5.63',\n",
       "       '5.84', '2.3', '3.09', '3.49'], dtype=object)"
      ]
     },
     "execution_count": 15,
     "metadata": {},
     "output_type": "execute_result"
    }
   ],
   "source": [
    "System['Upper Primary_Boys'].values"
   ]
  },
  {
   "cell_type": "code",
   "execution_count": 16,
   "id": "20f17352",
   "metadata": {},
   "outputs": [],
   "source": [
    "System=System.replace('Upp_r_Primery',0)"
   ]
  },
  {
   "cell_type": "code",
   "execution_count": 17,
   "id": "923cb2c0",
   "metadata": {},
   "outputs": [],
   "source": [
    "System['Primary_Girls']=System['Primary_Girls'].values.astype(np.float32)\n",
    "System['Primary_Girls']=System['Primary_Girls'].values.astype(np.float32)"
   ]
  },
  {
   "cell_type": "code",
   "execution_count": 18,
   "id": "f0db1907",
   "metadata": {},
   "outputs": [],
   "source": [
    "System['Secondary _boys']=System['Secondary _Boys'].values.astype(np.float32)\n",
    "System['Secondary _boys']=System['Secondary _Boys'].values.astype(np.float32)"
   ]
  },
  {
   "cell_type": "code",
   "execution_count": 19,
   "id": "2fecb2c0",
   "metadata": {},
   "outputs": [],
   "source": [
    "System['HrSecondary_boys']=System['HrSecondary_Boys'].values.astype(np.float32)\n",
    "System['HrSecondary_boys']=System['HrSecondary_Boys'].values.astype(np.float32)"
   ]
  },
  {
   "cell_type": "markdown",
   "id": "d36bf1b8",
   "metadata": {},
   "source": [
    "## Using Machine learning"
   ]
  },
  {
   "cell_type": "code",
   "execution_count": 20,
   "id": "d2acf60c",
   "metadata": {},
   "outputs": [],
   "source": [
    "import matplotlib.pyplot as plt\n",
    "import seaborn as sns"
   ]
  },
  {
   "cell_type": "code",
   "execution_count": 21,
   "id": "52dcab83",
   "metadata": {},
   "outputs": [
    {
     "data": {
      "text/html": [
       "<div>\n",
       "<style scoped>\n",
       "    .dataframe tbody tr th:only-of-type {\n",
       "        vertical-align: middle;\n",
       "    }\n",
       "\n",
       "    .dataframe tbody tr th {\n",
       "        vertical-align: top;\n",
       "    }\n",
       "\n",
       "    .dataframe thead th {\n",
       "        text-align: right;\n",
       "    }\n",
       "</style>\n",
       "<table border=\"1\" class=\"dataframe\">\n",
       "  <thead>\n",
       "    <tr style=\"text-align: right;\">\n",
       "      <th></th>\n",
       "      <th>Primary_Boys</th>\n",
       "      <th>Primary_Girls</th>\n",
       "      <th>Secondary _boys</th>\n",
       "      <th>HrSecondary_boys</th>\n",
       "    </tr>\n",
       "  </thead>\n",
       "  <tbody>\n",
       "    <tr>\n",
       "      <th>count</th>\n",
       "      <td>110.000000</td>\n",
       "      <td>110.000000</td>\n",
       "      <td>110.000000</td>\n",
       "      <td>110.000000</td>\n",
       "    </tr>\n",
       "    <tr>\n",
       "      <th>mean</th>\n",
       "      <td>4.293455</td>\n",
       "      <td>4.010818</td>\n",
       "      <td>17.162271</td>\n",
       "      <td>6.967999</td>\n",
       "    </tr>\n",
       "    <tr>\n",
       "      <th>std</th>\n",
       "      <td>4.674719</td>\n",
       "      <td>4.553512</td>\n",
       "      <td>8.931008</td>\n",
       "      <td>7.404572</td>\n",
       "    </tr>\n",
       "    <tr>\n",
       "      <th>min</th>\n",
       "      <td>0.000000</td>\n",
       "      <td>0.000000</td>\n",
       "      <td>0.000000</td>\n",
       "      <td>0.000000</td>\n",
       "    </tr>\n",
       "    <tr>\n",
       "      <th>25%</th>\n",
       "      <td>0.540000</td>\n",
       "      <td>0.590000</td>\n",
       "      <td>11.312500</td>\n",
       "      <td>0.057500</td>\n",
       "    </tr>\n",
       "    <tr>\n",
       "      <th>50%</th>\n",
       "      <td>2.900000</td>\n",
       "      <td>2.440000</td>\n",
       "      <td>16.105000</td>\n",
       "      <td>5.680000</td>\n",
       "    </tr>\n",
       "    <tr>\n",
       "      <th>75%</th>\n",
       "      <td>6.742500</td>\n",
       "      <td>5.870000</td>\n",
       "      <td>23.012500</td>\n",
       "      <td>11.765000</td>\n",
       "    </tr>\n",
       "    <tr>\n",
       "      <th>max</th>\n",
       "      <td>24.270000</td>\n",
       "      <td>23.930000</td>\n",
       "      <td>50.090000</td>\n",
       "      <td>44.380001</td>\n",
       "    </tr>\n",
       "  </tbody>\n",
       "</table>\n",
       "</div>"
      ],
      "text/plain": [
       "       Primary_Boys  Primary_Girls  Secondary _boys  HrSecondary_boys\n",
       "count    110.000000     110.000000       110.000000        110.000000\n",
       "mean       4.293455       4.010818        17.162271          6.967999\n",
       "std        4.674719       4.553512         8.931008          7.404572\n",
       "min        0.000000       0.000000         0.000000          0.000000\n",
       "25%        0.540000       0.590000        11.312500          0.057500\n",
       "50%        2.900000       2.440000        16.105000          5.680000\n",
       "75%        6.742500       5.870000        23.012500         11.765000\n",
       "max       24.270000      23.930000        50.090000         44.380001"
      ]
     },
     "execution_count": 21,
     "metadata": {},
     "output_type": "execute_result"
    }
   ],
   "source": [
    "# Describe our data set\n",
    "System.describe()"
   ]
  },
  {
   "cell_type": "code",
   "execution_count": 22,
   "id": "576aff7b",
   "metadata": {},
   "outputs": [
    {
     "name": "stdout",
     "output_type": "stream",
     "text": [
      "<class 'pandas.core.frame.DataFrame'>\n",
      "RangeIndex: 110 entries, 0 to 109\n",
      "Data columns (total 16 columns):\n",
      " #   Column               Non-Null Count  Dtype  \n",
      "---  ------               --------------  -----  \n",
      " 0   State_UT             110 non-null    object \n",
      " 1   year                 110 non-null    object \n",
      " 2   Primary_Boys         110 non-null    float64\n",
      " 3   Primary_Girls        110 non-null    float32\n",
      " 4   Primary_Total        110 non-null    object \n",
      " 5   Upper Primary_Boys   110 non-null    object \n",
      " 6   Upper Primary_Girls  110 non-null    object \n",
      " 7   Upper Primary_Total  110 non-null    object \n",
      " 8   Secondary _Boys      110 non-null    object \n",
      " 9   Secondary _Girls     110 non-null    object \n",
      " 10  Secondary _Total     110 non-null    object \n",
      " 11  HrSecondary_Boys     110 non-null    object \n",
      " 12  HrSecondary_Girls    110 non-null    object \n",
      " 13  HrSecondary_Total    110 non-null    object \n",
      " 14  Secondary _boys      110 non-null    float32\n",
      " 15  HrSecondary_boys     110 non-null    float32\n",
      "dtypes: float32(3), float64(1), object(12)\n",
      "memory usage: 12.6+ KB\n"
     ]
    }
   ],
   "source": [
    "System.info()"
   ]
  },
  {
   "cell_type": "code",
   "execution_count": 23,
   "id": "31eac633",
   "metadata": {},
   "outputs": [
    {
     "name": "stderr",
     "output_type": "stream",
     "text": [
      "C:\\ProgramData\\Anaconda3\\lib\\site-packages\\seaborn\\_decorators.py:36: FutureWarning: Pass the following variable as a keyword arg: x. From version 0.12, the only valid positional argument will be `data`, and passing other arguments without an explicit keyword will result in an error or misinterpretation.\n",
      "  warnings.warn(\n"
     ]
    },
    {
     "data": {
      "text/plain": [
       "<AxesSubplot:xlabel='State_UT', ylabel='count'>"
      ]
     },
     "execution_count": 23,
     "metadata": {},
     "output_type": "execute_result"
    },
    {
     "data": {
      "image/png": "[encoded data removed]",
      "text/plain": [
       "<Figure size 4320x1440 with 1 Axes>"
      ]
     },
     "metadata": {
      "needs_background": "light"
     },
     "output_type": "display_data"
    }
   ],
   "source": [
    "# Count whatever state you have\n",
    "plt.figure(figsize= (60,20))\n",
    "\n",
    "sns.countplot(System['State_UT'])"
   ]
  },
  {
   "cell_type": "code",
   "execution_count": 24,
   "id": "4ce234af",
   "metadata": {},
   "outputs": [
    {
     "data": {
      "text/html": [
       "<div>\n",
       "<style scoped>\n",
       "    .dataframe tbody tr th:only-of-type {\n",
       "        vertical-align: middle;\n",
       "    }\n",
       "\n",
       "    .dataframe tbody tr th {\n",
       "        vertical-align: top;\n",
       "    }\n",
       "\n",
       "    .dataframe thead th {\n",
       "        text-align: right;\n",
       "    }\n",
       "</style>\n",
       "<table border=\"1\" class=\"dataframe\">\n",
       "  <thead>\n",
       "    <tr style=\"text-align: right;\">\n",
       "      <th></th>\n",
       "      <th>State_UT</th>\n",
       "      <th>year</th>\n",
       "      <th>Primary_Boys</th>\n",
       "      <th>Primary_Girls</th>\n",
       "      <th>Primary_Total</th>\n",
       "      <th>Upper Primary_Boys</th>\n",
       "      <th>Upper Primary_Girls</th>\n",
       "      <th>Upper Primary_Total</th>\n",
       "      <th>Secondary _Boys</th>\n",
       "      <th>Secondary _Girls</th>\n",
       "      <th>Secondary _Total</th>\n",
       "      <th>HrSecondary_Boys</th>\n",
       "      <th>HrSecondary_Girls</th>\n",
       "      <th>HrSecondary_Total</th>\n",
       "      <th>Secondary _boys</th>\n",
       "      <th>HrSecondary_boys</th>\n",
       "    </tr>\n",
       "  </thead>\n",
       "  <tbody>\n",
       "    <tr>\n",
       "      <th>0</th>\n",
       "      <td>A &amp; N Islands</td>\n",
       "      <td>2012-13</td>\n",
       "      <td>0.83</td>\n",
       "      <td>0.51</td>\n",
       "      <td>0.68</td>\n",
       "      <td>Uppe_r_Primary</td>\n",
       "      <td>1.09</td>\n",
       "      <td>1.23</td>\n",
       "      <td>5.57</td>\n",
       "      <td>5.55</td>\n",
       "      <td>5.56</td>\n",
       "      <td>17.66</td>\n",
       "      <td>10.15</td>\n",
       "      <td>14.14</td>\n",
       "      <td>5.57</td>\n",
       "      <td>17.660000</td>\n",
       "    </tr>\n",
       "    <tr>\n",
       "      <th>1</th>\n",
       "      <td>A &amp; N Islands</td>\n",
       "      <td>2013-14</td>\n",
       "      <td>1.35</td>\n",
       "      <td>1.06</td>\n",
       "      <td>1.21</td>\n",
       "      <td>0</td>\n",
       "      <td>1.54</td>\n",
       "      <td>0.51</td>\n",
       "      <td>8.36</td>\n",
       "      <td>5.98</td>\n",
       "      <td>7.2</td>\n",
       "      <td>18.94</td>\n",
       "      <td>12.2</td>\n",
       "      <td>15.87</td>\n",
       "      <td>8.36</td>\n",
       "      <td>18.940001</td>\n",
       "    </tr>\n",
       "    <tr>\n",
       "      <th>2</th>\n",
       "      <td>A &amp; N Islands</td>\n",
       "      <td>2014-15</td>\n",
       "      <td>0.47</td>\n",
       "      <td>0.55</td>\n",
       "      <td>0.51</td>\n",
       "      <td>1.44</td>\n",
       "      <td>1.95</td>\n",
       "      <td>1.69</td>\n",
       "      <td>11.47</td>\n",
       "      <td>8.16</td>\n",
       "      <td>9.87</td>\n",
       "      <td>21.05</td>\n",
       "      <td>12.21</td>\n",
       "      <td>16.93</td>\n",
       "      <td>11.47</td>\n",
       "      <td>21.049999</td>\n",
       "    </tr>\n",
       "    <tr>\n",
       "      <th>3</th>\n",
       "      <td>Andhra Pradesh</td>\n",
       "      <td>2012-13</td>\n",
       "      <td>3.30</td>\n",
       "      <td>3.05</td>\n",
       "      <td>3.18</td>\n",
       "      <td>3.21</td>\n",
       "      <td>3.51</td>\n",
       "      <td>3.36</td>\n",
       "      <td>12.21</td>\n",
       "      <td>13.25</td>\n",
       "      <td>12.72</td>\n",
       "      <td>2.66</td>\n",
       "      <td>0</td>\n",
       "      <td>0.35</td>\n",
       "      <td>12.21</td>\n",
       "      <td>2.660000</td>\n",
       "    </tr>\n",
       "    <tr>\n",
       "      <th>4</th>\n",
       "      <td>Andhra Pradesh</td>\n",
       "      <td>2013-14</td>\n",
       "      <td>4.31</td>\n",
       "      <td>4.39</td>\n",
       "      <td>4.35</td>\n",
       "      <td>3.46</td>\n",
       "      <td>4.12</td>\n",
       "      <td>3.78</td>\n",
       "      <td>11.95</td>\n",
       "      <td>13.37</td>\n",
       "      <td>12.65</td>\n",
       "      <td>12.65</td>\n",
       "      <td>10.85</td>\n",
       "      <td>11.79</td>\n",
       "      <td>11.95</td>\n",
       "      <td>12.650000</td>\n",
       "    </tr>\n",
       "  </tbody>\n",
       "</table>\n",
       "</div>"
      ],
      "text/plain": [
       "         State_UT     year  Primary_Boys  Primary_Girls Primary_Total  \\\n",
       "0   A & N Islands  2012-13          0.83           0.51          0.68   \n",
       "1   A & N Islands  2013-14          1.35           1.06          1.21   \n",
       "2   A & N Islands  2014-15          0.47           0.55          0.51   \n",
       "3  Andhra Pradesh  2012-13          3.30           3.05          3.18   \n",
       "4  Andhra Pradesh  2013-14          4.31           4.39          4.35   \n",
       "\n",
       "  Upper Primary_Boys Upper Primary_Girls Upper Primary_Total Secondary _Boys  \\\n",
       "0     Uppe_r_Primary                1.09                1.23            5.57   \n",
       "1                  0                1.54                0.51            8.36   \n",
       "2               1.44                1.95                1.69           11.47   \n",
       "3               3.21                3.51                3.36           12.21   \n",
       "4               3.46                4.12                3.78           11.95   \n",
       "\n",
       "  Secondary _Girls Secondary _Total HrSecondary_Boys HrSecondary_Girls  \\\n",
       "0             5.55             5.56            17.66             10.15   \n",
       "1             5.98              7.2            18.94              12.2   \n",
       "2             8.16             9.87            21.05             12.21   \n",
       "3            13.25            12.72             2.66                 0   \n",
       "4            13.37            12.65            12.65             10.85   \n",
       "\n",
       "  HrSecondary_Total  Secondary _boys  HrSecondary_boys  \n",
       "0             14.14             5.57         17.660000  \n",
       "1             15.87             8.36         18.940001  \n",
       "2             16.93            11.47         21.049999  \n",
       "3              0.35            12.21          2.660000  \n",
       "4             11.79            11.95         12.650000  "
      ]
     },
     "execution_count": 24,
     "metadata": {},
     "output_type": "execute_result"
    }
   ],
   "source": [
    "System.head()"
   ]
  },
  {
   "cell_type": "code",
   "execution_count": 25,
   "id": "7ddf9993",
   "metadata": {},
   "outputs": [
    {
     "data": {
      "image/png": "[encoded data removed]",
      "text/plain": [
       "<Figure size 432x288 with 1 Axes>"
      ]
     },
     "metadata": {
      "needs_background": "light"
     },
     "output_type": "display_data"
    }
   ],
   "source": [
    "#Create a Bar Plot in West Bengal\n",
    "plt.bar(data_wb['Primary_Girls'],data_wb['year'])\n",
    "plt.xlabel('Primary_girls')\n",
    "plt.ylabel('year')\n",
    "plt.title('year basis Primary_Girls ration in West Bengal')\n",
    "plt.show()"
   ]
  },
  {
   "cell_type": "code",
   "execution_count": 26,
   "id": "1eb3a64e",
   "metadata": {},
   "outputs": [
    {
     "data": {
      "image/png": "[encoded data removed]",
      "text/plain": [
       "<Figure size 432x288 with 1 Axes>"
      ]
     },
     "metadata": {
      "needs_background": "light"
     },
     "output_type": "display_data"
    }
   ],
   "source": [
    "plt.bar(data_wb['Secondary _Girls'],data_wb['year'] )\n",
    "plt.xlabel('Secondary _Girls')\n",
    "plt.ylabel('year')\n",
    "plt.title('year basis Secondary _Girls ration')\n",
    "plt.show()"
   ]
  },
  {
   "cell_type": "code",
   "execution_count": 27,
   "id": "20372bf7",
   "metadata": {},
   "outputs": [
    {
     "data": {
      "image/png": "[encoded data removed]",
      "text/plain": [
       "<Figure size 432x288 with 1 Axes>"
      ]
     },
     "metadata": {
      "needs_background": "light"
     },
     "output_type": "display_data"
    }
   ],
   "source": [
    "plt.bar(data_wb['Primary_Boys'],data_wb['year'] )\n",
    "plt.xlabel('Primary_Boys')\n",
    "plt.ylabel('year')\n",
    "plt.title('year basis Primary_Boys ration')\n",
    "plt.show()"
   ]
  },
  {
   "cell_type": "code",
   "execution_count": 28,
   "id": "f3ff571e",
   "metadata": {},
   "outputs": [
    {
     "data": {
      "image/png": "[encoded data removed]",
      "text/plain": [
       "<Figure size 432x288 with 1 Axes>"
      ]
     },
     "metadata": {
      "needs_background": "light"
     },
     "output_type": "display_data"
    }
   ],
   "source": [
    "plt.bar(data_wb['Secondary _Boys'],data_wb['year'] )\n",
    "plt.xlabel('Secondar _Boys')\n",
    "plt.ylabel('year')\n",
    "plt.title('year basis Secondary _Boys ration')\n",
    "plt.show()"
   ]
  },
  {
   "cell_type": "code",
   "execution_count": 29,
   "id": "2a005842",
   "metadata": {},
   "outputs": [
    {
     "data": {
      "text/html": [
       "<div>\n",
       "<style scoped>\n",
       "    .dataframe tbody tr th:only-of-type {\n",
       "        vertical-align: middle;\n",
       "    }\n",
       "\n",
       "    .dataframe tbody tr th {\n",
       "        vertical-align: top;\n",
       "    }\n",
       "\n",
       "    .dataframe thead th {\n",
       "        text-align: right;\n",
       "    }\n",
       "</style>\n",
       "<table border=\"1\" class=\"dataframe\">\n",
       "  <thead>\n",
       "    <tr style=\"text-align: right;\">\n",
       "      <th></th>\n",
       "      <th>State_UT</th>\n",
       "      <th>year</th>\n",
       "      <th>Primary_Boys</th>\n",
       "      <th>Primary_Girls</th>\n",
       "      <th>Primary_Total</th>\n",
       "      <th>Upper Primary_Boys</th>\n",
       "      <th>Upper Primary_Girls</th>\n",
       "      <th>Upper Primary_Total</th>\n",
       "      <th>Secondary _Boys</th>\n",
       "      <th>Secondary _Girls</th>\n",
       "      <th>Secondary _Total</th>\n",
       "      <th>HrSecondary_Boys</th>\n",
       "      <th>HrSecondary_Girls</th>\n",
       "      <th>HrSecondary_Total</th>\n",
       "      <th>Secondary _boys</th>\n",
       "      <th>HrSecondary_boys</th>\n",
       "    </tr>\n",
       "  </thead>\n",
       "  <tbody>\n",
       "    <tr>\n",
       "      <th>0</th>\n",
       "      <td>A &amp; N Islands</td>\n",
       "      <td>2012-13</td>\n",
       "      <td>0.83</td>\n",
       "      <td>0.51</td>\n",
       "      <td>0.68</td>\n",
       "      <td>Uppe_r_Primary</td>\n",
       "      <td>1.09</td>\n",
       "      <td>1.23</td>\n",
       "      <td>5.57</td>\n",
       "      <td>5.55</td>\n",
       "      <td>5.56</td>\n",
       "      <td>17.66</td>\n",
       "      <td>10.15</td>\n",
       "      <td>14.14</td>\n",
       "      <td>5.57</td>\n",
       "      <td>17.660000</td>\n",
       "    </tr>\n",
       "    <tr>\n",
       "      <th>1</th>\n",
       "      <td>A &amp; N Islands</td>\n",
       "      <td>2013-14</td>\n",
       "      <td>1.35</td>\n",
       "      <td>1.06</td>\n",
       "      <td>1.21</td>\n",
       "      <td>0</td>\n",
       "      <td>1.54</td>\n",
       "      <td>0.51</td>\n",
       "      <td>8.36</td>\n",
       "      <td>5.98</td>\n",
       "      <td>7.2</td>\n",
       "      <td>18.94</td>\n",
       "      <td>12.2</td>\n",
       "      <td>15.87</td>\n",
       "      <td>8.36</td>\n",
       "      <td>18.940001</td>\n",
       "    </tr>\n",
       "    <tr>\n",
       "      <th>2</th>\n",
       "      <td>A &amp; N Islands</td>\n",
       "      <td>2014-15</td>\n",
       "      <td>0.47</td>\n",
       "      <td>0.55</td>\n",
       "      <td>0.51</td>\n",
       "      <td>1.44</td>\n",
       "      <td>1.95</td>\n",
       "      <td>1.69</td>\n",
       "      <td>11.47</td>\n",
       "      <td>8.16</td>\n",
       "      <td>9.87</td>\n",
       "      <td>21.05</td>\n",
       "      <td>12.21</td>\n",
       "      <td>16.93</td>\n",
       "      <td>11.47</td>\n",
       "      <td>21.049999</td>\n",
       "    </tr>\n",
       "    <tr>\n",
       "      <th>3</th>\n",
       "      <td>Andhra Pradesh</td>\n",
       "      <td>2012-13</td>\n",
       "      <td>3.30</td>\n",
       "      <td>3.05</td>\n",
       "      <td>3.18</td>\n",
       "      <td>3.21</td>\n",
       "      <td>3.51</td>\n",
       "      <td>3.36</td>\n",
       "      <td>12.21</td>\n",
       "      <td>13.25</td>\n",
       "      <td>12.72</td>\n",
       "      <td>2.66</td>\n",
       "      <td>0</td>\n",
       "      <td>0.35</td>\n",
       "      <td>12.21</td>\n",
       "      <td>2.660000</td>\n",
       "    </tr>\n",
       "    <tr>\n",
       "      <th>4</th>\n",
       "      <td>Andhra Pradesh</td>\n",
       "      <td>2013-14</td>\n",
       "      <td>4.31</td>\n",
       "      <td>4.39</td>\n",
       "      <td>4.35</td>\n",
       "      <td>3.46</td>\n",
       "      <td>4.12</td>\n",
       "      <td>3.78</td>\n",
       "      <td>11.95</td>\n",
       "      <td>13.37</td>\n",
       "      <td>12.65</td>\n",
       "      <td>12.65</td>\n",
       "      <td>10.85</td>\n",
       "      <td>11.79</td>\n",
       "      <td>11.95</td>\n",
       "      <td>12.650000</td>\n",
       "    </tr>\n",
       "  </tbody>\n",
       "</table>\n",
       "</div>"
      ],
      "text/plain": [
       "         State_UT     year  Primary_Boys  Primary_Girls Primary_Total  \\\n",
       "0   A & N Islands  2012-13          0.83           0.51          0.68   \n",
       "1   A & N Islands  2013-14          1.35           1.06          1.21   \n",
       "2   A & N Islands  2014-15          0.47           0.55          0.51   \n",
       "3  Andhra Pradesh  2012-13          3.30           3.05          3.18   \n",
       "4  Andhra Pradesh  2013-14          4.31           4.39          4.35   \n",
       "\n",
       "  Upper Primary_Boys Upper Primary_Girls Upper Primary_Total Secondary _Boys  \\\n",
       "0     Uppe_r_Primary                1.09                1.23            5.57   \n",
       "1                  0                1.54                0.51            8.36   \n",
       "2               1.44                1.95                1.69           11.47   \n",
       "3               3.21                3.51                3.36           12.21   \n",
       "4               3.46                4.12                3.78           11.95   \n",
       "\n",
       "  Secondary _Girls Secondary _Total HrSecondary_Boys HrSecondary_Girls  \\\n",
       "0             5.55             5.56            17.66             10.15   \n",
       "1             5.98              7.2            18.94              12.2   \n",
       "2             8.16             9.87            21.05             12.21   \n",
       "3            13.25            12.72             2.66                 0   \n",
       "4            13.37            12.65            12.65             10.85   \n",
       "\n",
       "  HrSecondary_Total  Secondary _boys  HrSecondary_boys  \n",
       "0             14.14             5.57         17.660000  \n",
       "1             15.87             8.36         18.940001  \n",
       "2             16.93            11.47         21.049999  \n",
       "3              0.35            12.21          2.660000  \n",
       "4             11.79            11.95         12.650000  "
      ]
     },
     "execution_count": 29,
     "metadata": {},
     "output_type": "execute_result"
    }
   ],
   "source": [
    "System.head()"
   ]
  },
  {
   "cell_type": "code",
   "execution_count": 30,
   "id": "119b334d",
   "metadata": {},
   "outputs": [
    {
     "data": {
      "text/plain": [
       "(array([1., 0., 0., 0., 0., 1., 0., 0., 0., 1.]),\n",
       " array([0. , 0.2, 0.4, 0.6, 0.8, 1. , 1.2, 1.4, 1.6, 1.8, 2. ]),\n",
       " <BarContainer object of 10 artists>)"
      ]
     },
     "execution_count": 30,
     "metadata": {},
     "output_type": "execute_result"
    },
    {
     "data": {
      "image/png": "[encoded data removed]",
      "text/plain": [
       "<Figure size 432x288 with 1 Axes>"
      ]
     },
     "metadata": {
      "needs_background": "light"
     },
     "output_type": "display_data"
    }
   ],
   "source": [
    "plt.hist(data_wb['HrSecondary_Girls'])"
   ]
  },
  {
   "cell_type": "code",
   "execution_count": 31,
   "id": "f2a53324",
   "metadata": {},
   "outputs": [
    {
     "data": {
      "text/plain": [
       "Index(['State_UT', 'year', 'Primary_Boys', 'Primary_Girls', 'Primary_Total',\n",
       "       'Upper Primary_Boys', 'Upper Primary_Girls', 'Upper Primary_Total',\n",
       "       'Secondary _Boys', 'Secondary _Girls', 'Secondary _Total',\n",
       "       'HrSecondary_Boys', 'HrSecondary_Girls', 'HrSecondary_Total',\n",
       "       'Secondary _boys', 'HrSecondary_boys'],\n",
       "      dtype='object')"
      ]
     },
     "execution_count": 31,
     "metadata": {},
     "output_type": "execute_result"
    }
   ],
   "source": [
    "System.columns"
   ]
  },
  {
   "cell_type": "code",
   "execution_count": 45,
   "id": "8b2f7967",
   "metadata": {},
   "outputs": [
    {
     "name": "stderr",
     "output_type": "stream",
     "text": [
      "C:\\ProgramData\\Anaconda3\\lib\\site-packages\\seaborn\\_decorators.py:36: FutureWarning: Pass the following variable as a keyword arg: x. From version 0.12, the only valid positional argument will be `data`, and passing other arguments without an explicit keyword will result in an error or misinterpretation.\n",
      "  warnings.warn(\n",
      "C:\\ProgramData\\Anaconda3\\lib\\site-packages\\seaborn\\_decorators.py:36: FutureWarning: Pass the following variable as a keyword arg: x. From version 0.12, the only valid positional argument will be `data`, and passing other arguments without an explicit keyword will result in an error or misinterpretation.\n",
      "  warnings.warn(\n",
      "C:\\ProgramData\\Anaconda3\\lib\\site-packages\\seaborn\\_decorators.py:36: FutureWarning: Pass the following variable as a keyword arg: x. From version 0.12, the only valid positional argument will be `data`, and passing other arguments without an explicit keyword will result in an error or misinterpretation.\n",
      "  warnings.warn(\n",
      "C:\\ProgramData\\Anaconda3\\lib\\site-packages\\seaborn\\_decorators.py:36: FutureWarning: Pass the following variable as a keyword arg: x. From version 0.12, the only valid positional argument will be `data`, and passing other arguments without an explicit keyword will result in an error or misinterpretation.\n",
      "  warnings.warn(\n",
      "C:\\ProgramData\\Anaconda3\\lib\\site-packages\\seaborn\\_decorators.py:36: FutureWarning: Pass the following variable as a keyword arg: x. From version 0.12, the only valid positional argument will be `data`, and passing other arguments without an explicit keyword will result in an error or misinterpretation.\n",
      "  warnings.warn(\n",
      "C:\\ProgramData\\Anaconda3\\lib\\site-packages\\seaborn\\_decorators.py:36: FutureWarning: Pass the following variable as a keyword arg: x. From version 0.12, the only valid positional argument will be `data`, and passing other arguments without an explicit keyword will result in an error or misinterpretation.\n",
      "  warnings.warn(\n"
     ]
    },
    {
     "data": {
      "text/plain": [
       "<AxesSubplot:xlabel='Secondary _Boys'>"
      ]
     },
     "execution_count": 45,
     "metadata": {},
     "output_type": "execute_result"
    },
    {
     "data": {
      "image/png": "[encoded data removed]",
      "text/plain": [
       "<Figure size 1440x1080 with 6 Axes>"
      ]
     },
     "metadata": {
      "needs_background": "light"
     },
     "output_type": "display_data"
    }
   ],
   "source": [
    "System['HrSecondary_Girls'] = pd.to_numeric(System['HrSecondary_Girls'], errors='coerce')\n",
    "\n",
    "# Create a boxplot with numeric data\n",
    "plt.figure(figsize=(20, 15))\n",
    "plt.subplot(4,4,1)\n",
    "sns.boxplot(System['HrSecondary_Girls'])\n",
    "\n",
    "System['HrSecondary_Boys'] = pd.to_numeric(System['HrSecondary_Boys'], errors='coerce')\n",
    "\n",
    "# Create a boxplot with numeric data\n",
    "plt.subplot(4,4,2)\n",
    "sns.boxplot(System['HrSecondary_Boys'])\n",
    "System['Upper Primary_Girls'] = pd.to_numeric(System['Upper Primary_Girls'], errors='coerce')\n",
    "\n",
    "# Create a boxplot with numeric data\n",
    "plt.subplot(4,4,3)\n",
    "sns.boxplot(System['Upper Primary_Girls'])\n",
    "\n",
    "System['Upper Primary_Boys'] = pd.to_numeric(System['Upper Primary_Boys'], errors='coerce')\n",
    "\n",
    "# Create a boxplot with numeric data\n",
    "plt.subplot(4,4,4)\n",
    "sns.boxplot(System['Upper Primary_Boys'])\n",
    "\n",
    "System['Secondary _Girls'] = pd.to_numeric(System['Secondary _Girls'], errors='coerce')\n",
    "\n",
    "# Create a boxplot with numeric data\n",
    "plt.subplot(4,4,5)\n",
    "sns.boxplot(System['Secondary _Girls'])\n",
    "\n",
    "System['Secondary _Boys'] = pd.to_numeric(System['Secondary _Boys'], errors='coerce')\n",
    "\n",
    "# Create a boxplot with numeric data\n",
    "plt.subplot(4,4,6)\n",
    "sns.boxplot(System['Secondary _Boys'])"
   ]
  },
  {
   "cell_type": "code",
   "execution_count": 59,
   "id": "b207ea5b",
   "metadata": {},
   "outputs": [
    {
     "data": {
      "text/plain": [
       "<Figure size 1440x1080 with 0 Axes>"
      ]
     },
     "metadata": {},
     "output_type": "display_data"
    }
   ],
   "source": []
  }
 ],
 "metadata": {
  "kernelspec": {
   "display_name": "Python 3 (ipykernel)",
   "language": "python",
   "name": "python3"
  },
  "language_info": {
   "codemirror_mode": {
    "name": "ipython",
    "version": 3
   },
   "file_extension": ".py",
   "mimetype": "text/x-python",
   "name": "python",
   "nbconvert_exporter": "python",
   "pygments_lexer": "ipython3",
   "version": "3.9.12"
  }
 },
 "nbformat": 4,
 "nbformat_minor": 5
}
