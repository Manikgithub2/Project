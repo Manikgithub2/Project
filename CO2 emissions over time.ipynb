{
 "cells": [
  {
   "cell_type": "code",
   "execution_count": 1,
   "id": "9b03a69d",
   "metadata": {},
   "outputs": [
    {
     "name": "stdout",
     "output_type": "stream",
     "text": [
      "Defaulting to user installation because normal site-packages is not writeable\n",
      "Requirement already satisfied: openmeteo_requests in c:\\users\\manik\\appdata\\roaming\\python\\python39\\site-packages (1.2.0)\n",
      "Requirement already satisfied: openmeteo-sdk>=1.4.0 in c:\\users\\manik\\appdata\\roaming\\python\\python39\\site-packages (from openmeteo_requests) (1.10.0)\n",
      "Requirement already satisfied: requests in c:\\users\\manik\\appdata\\roaming\\python\\python39\\site-packages (from openmeteo_requests) (2.31.0)\n",
      "Requirement already satisfied: flatbuffers>=23.0.0 in c:\\users\\manik\\appdata\\roaming\\python\\python39\\site-packages (from openmeteo-sdk>=1.4.0->openmeteo_requests) (23.5.26)\n",
      "Requirement already satisfied: charset-normalizer<4,>=2 in c:\\programdata\\anaconda3\\lib\\site-packages (from requests->openmeteo_requests) (2.0.4)\n",
      "Requirement already satisfied: urllib3<3,>=1.21.1 in c:\\programdata\\anaconda3\\lib\\site-packages (from requests->openmeteo_requests) (1.26.9)\n",
      "Requirement already satisfied: certifi>=2017.4.17 in c:\\programdata\\anaconda3\\lib\\site-packages (from requests->openmeteo_requests) (2021.10.8)\n",
      "Requirement already satisfied: idna<4,>=2.5 in c:\\programdata\\anaconda3\\lib\\site-packages (from requests->openmeteo_requests) (3.3)\n",
      "Note: you may need to restart the kernel to use updated packages.\n"
     ]
    }
   ],
   "source": [
    "pip install openmeteo_requests"
   ]
  },
  {
   "cell_type": "code",
   "execution_count": 2,
   "id": "ccc21ddd",
   "metadata": {},
   "outputs": [
    {
     "name": "stdout",
     "output_type": "stream",
     "text": [
      "Defaulting to user installation because normal site-packages is not writeable\n",
      "Requirement already satisfied: requests_cache in c:\\users\\manik\\appdata\\roaming\\python\\python39\\site-packages (1.1.1)\n",
      "Requirement already satisfied: urllib3>=1.25.5 in c:\\programdata\\anaconda3\\lib\\site-packages (from requests_cache) (1.26.9)\n",
      "Requirement already satisfied: attrs>=21.2 in c:\\users\\manik\\appdata\\roaming\\python\\python39\\site-packages (from requests_cache) (23.2.0)\n",
      "Requirement already satisfied: platformdirs>=2.5 in c:\\users\\manik\\appdata\\roaming\\python\\python39\\site-packages (from requests_cache) (4.2.0)\n",
      "Requirement already satisfied: requests>=2.22 in c:\\users\\manik\\appdata\\roaming\\python\\python39\\site-packages (from requests_cache) (2.31.0)\n",
      "Requirement already satisfied: cattrs>=22.2 in c:\\users\\manik\\appdata\\roaming\\python\\python39\\site-packages (from requests_cache) (23.2.3)\n",
      "Requirement already satisfied: url-normalize>=1.4 in c:\\users\\manik\\appdata\\roaming\\python\\python39\\site-packages (from requests_cache) (1.4.3)\n",
      "Requirement already satisfied: exceptiongroup>=1.1.1 in c:\\users\\manik\\appdata\\roaming\\python\\python39\\site-packages (from cattrs>=22.2->requests_cache) (1.2.0)\n",
      "Requirement already satisfied: typing-extensions!=4.6.3,>=4.1.0 in c:\\users\\manik\\appdata\\roaming\\python\\python39\\site-packages (from cattrs>=22.2->requests_cache) (4.9.0)\n",
      "Requirement already satisfied: certifi>=2017.4.17 in c:\\programdata\\anaconda3\\lib\\site-packages (from requests>=2.22->requests_cache) (2021.10.8)\n",
      "Requirement already satisfied: charset-normalizer<4,>=2 in c:\\programdata\\anaconda3\\lib\\site-packages (from requests>=2.22->requests_cache) (2.0.4)\n",
      "Requirement already satisfied: idna<4,>=2.5 in c:\\programdata\\anaconda3\\lib\\site-packages (from requests>=2.22->requests_cache) (3.3)\n",
      "Requirement already satisfied: six in c:\\programdata\\anaconda3\\lib\\site-packages (from url-normalize>=1.4->requests_cache) (1.16.0)\n",
      "Note: you may need to restart the kernel to use updated packages.\n"
     ]
    }
   ],
   "source": [
    "pip install requests_cache"
   ]
  },
  {
   "cell_type": "code",
   "execution_count": 3,
   "id": "1163098c",
   "metadata": {},
   "outputs": [
    {
     "name": "stdout",
     "output_type": "stream",
     "text": [
      "Defaulting to user installation because normal site-packages is not writeable\n",
      "Requirement already satisfied: retry_requests in c:\\users\\manik\\appdata\\roaming\\python\\python39\\site-packages (2.0.0)\n",
      "Requirement already satisfied: requests in c:\\users\\manik\\appdata\\roaming\\python\\python39\\site-packages (from retry_requests) (2.31.0)\n",
      "Requirement already satisfied: urllib3>=1.26 in c:\\programdata\\anaconda3\\lib\\site-packages (from retry_requests) (1.26.9)\n",
      "Requirement already satisfied: idna<4,>=2.5 in c:\\programdata\\anaconda3\\lib\\site-packages (from requests->retry_requests) (3.3)\n",
      "Requirement already satisfied: charset-normalizer<4,>=2 in c:\\programdata\\anaconda3\\lib\\site-packages (from requests->retry_requests) (2.0.4)\n",
      "Requirement already satisfied: certifi>=2017.4.17 in c:\\programdata\\anaconda3\\lib\\site-packages (from requests->retry_requests) (2021.10.8)\n",
      "Note: you may need to restart the kernel to use updated packages.\n"
     ]
    }
   ],
   "source": [
    "pip install retry_requests"
   ]
  },
  {
   "cell_type": "code",
   "execution_count": 4,
   "id": "b23be714",
   "metadata": {},
   "outputs": [
    {
     "name": "stdout",
     "output_type": "stream",
     "text": [
      "Defaulting to user installation because normal site-packages is not writeable\n",
      "Requirement already satisfied: folium in c:\\users\\manik\\appdata\\roaming\\python\\python39\\site-packages (0.15.1)\n",
      "Requirement already satisfied: xyzservices in c:\\users\\manik\\appdata\\roaming\\python\\python39\\site-packages (from folium) (2023.10.1)\n",
      "Requirement already satisfied: jinja2>=2.9 in c:\\users\\manik\\appdata\\roaming\\python\\python39\\site-packages (from folium) (3.1.3)\n",
      "Requirement already satisfied: requests in c:\\users\\manik\\appdata\\roaming\\python\\python39\\site-packages (from folium) (2.31.0)\n",
      "Requirement already satisfied: numpy in c:\\users\\manik\\appdata\\roaming\\python\\python39\\site-packages (from folium) (1.22.4)\n",
      "Requirement already satisfied: branca>=0.6.0 in c:\\users\\manik\\appdata\\roaming\\python\\python39\\site-packages (from folium) (0.7.1)\n",
      "Requirement already satisfied: MarkupSafe>=2.0 in c:\\programdata\\anaconda3\\lib\\site-packages (from jinja2>=2.9->folium) (2.0.1)\n",
      "Requirement already satisfied: charset-normalizer<4,>=2 in c:\\programdata\\anaconda3\\lib\\site-packages (from requests->folium) (2.0.4)\n",
      "Requirement already satisfied: idna<4,>=2.5 in c:\\programdata\\anaconda3\\lib\\site-packages (from requests->folium) (3.3)\n",
      "Requirement already satisfied: certifi>=2017.4.17 in c:\\programdata\\anaconda3\\lib\\site-packages (from requests->folium) (2021.10.8)\n",
      "Requirement already satisfied: urllib3<3,>=1.21.1 in c:\\programdata\\anaconda3\\lib\\site-packages (from requests->folium) (1.26.9)\n",
      "Note: you may need to restart the kernel to use updated packages.\n"
     ]
    }
   ],
   "source": [
    "pip install folium"
   ]
  },
  {
   "cell_type": "code",
   "execution_count": 5,
   "id": "2011d978",
   "metadata": {},
   "outputs": [],
   "source": [
    "import openmeteo_requests\n",
    "import matplotlib.pyplot as plt\n",
    "import requests_cache\n",
    "import numpy as np\n",
    "import pandas as pd\n",
    "from retry_requests import retry\n",
    "import folium"
   ]
  },
  {
   "cell_type": "code",
   "execution_count": 6,
   "id": "6f9b3ac9",
   "metadata": {},
   "outputs": [],
   "source": [
    "cache_session = requests_cache.CachedSession('.cache', expire_after = 3600)\n",
    "retry_session = retry(cache_session, retries = 5, backoff_factor = 0.2)\n",
    "openmeteo = openmeteo_requests.Client(session = retry_session)"
   ]
  },
  {
   "cell_type": "code",
   "execution_count": 7,
   "id": "a33bcb32",
   "metadata": {},
   "outputs": [],
   "source": [
    "url_climate = \"https://climate-api.open-meteo.com/v1/climate\"\n",
    "params_climate = {\n",
    "\t\"latitude\": 40.7143,\n",
    "\t\"longitude\": -74.006,\n",
    "\t\"start_date\": \"2022-08-04\",\n",
    "\t\"end_date\": \"2024-02-15\",\n",
    "\t\"models\": \"EC_Earth3P_HR\",\n",
    "\t\"timezone\": \"America/New_York\",\n",
    "\t\"daily\": \"temperature_2m_mean\"\n",
    "}\n",
    "responses_climate = openmeteo.weather_api(url_climate, params=params_climate)"
   ]
  },
  {
   "cell_type": "code",
   "execution_count": 8,
   "id": "96f2f522",
   "metadata": {},
   "outputs": [],
   "source": [
    "response = responses_climate[0]\n",
    "# print(f\"Coordinates {response.Latitude()}Â°N {response.Longitude()}Â°E\")\n",
    "# print(f\"Elevation {response.Elevation()} m asl\")\n",
    "# print(f\"Timezone {response.Timezone()} {response.TimezoneAbbreviation()}\")\n",
    "# print(f\"Timezone difference to GMT+0 {response.UtcOffsetSeconds()} s\")\n",
    "\n",
    "daily_climate = response.Daily()\n",
    "daily_temperature_2m_mean = daily_climate.Variables(0).ValuesAsNumpy()\n",
    "\n",
    "daily_data_climate = {\"date\": pd.date_range(\n",
    "\tstart = pd.to_datetime(daily_climate.Time(), unit = \"s\"),\n",
    "\tend = pd.to_datetime(daily_climate.TimeEnd(), unit = \"s\"),\n",
    "\tfreq = pd.Timedelta(seconds = daily_climate.Interval()),\n",
    "\tinclusive = \"left\"\n",
    ")}\n",
    "daily_data_climate[\"temperature_2m_mean\"] = daily_temperature_2m_mean\n",
    "\n",
    "daily_dataframe_climate = pd.DataFrame(data = daily_data_climate)\n",
    "# print(daily_dataframe_climate)"
   ]
  },
  {
   "cell_type": "code",
   "execution_count": 9,
   "id": "bc2ae8d4",
   "metadata": {},
   "outputs": [],
   "source": [
    "url_co2 = \"https://air-quality-api.open-meteo.com/v1/air-quality\"\n",
    "params_co2 = {\n",
    "\t\"latitude\": 40.7143,\n",
    "\t\"longitude\": -74.006,\n",
    "\t\"hourly\": \"carbon_monoxide\",\n",
    "\t\"timezone\": \"America/New_York\",\n",
    "\t\"start_date\": \"2022-08-04\",\n",
    "\t\"end_date\": \"2024-02-15\",\n",
    "\t\"domains\": \"cams_global\"\n",
    "}\n",
    "\n",
    "responses_co2 = openmeteo.weather_api(url_co2, params=params_co2)\n",
    "response = responses_co2[0]"
   ]
  },
  {
   "cell_type": "code",
   "execution_count": 10,
   "id": "a4eb0c3a",
   "metadata": {},
   "outputs": [],
   "source": [
    "hourly_co2 = response.Hourly()\n",
    "hourly_carbon_monoxide = hourly_co2.Variables(0).ValuesAsNumpy()\n",
    "\n",
    "hourly_data_co2 = {\"date\": pd.date_range(\n",
    "\tstart = pd.to_datetime(hourly_co2.Time(), unit = \"s\"),\n",
    "\tend = pd.to_datetime(hourly_co2.TimeEnd(), unit = \"s\"),\n",
    "\tfreq = pd.Timedelta(seconds = hourly_co2.Interval()),\n",
    "\tinclusive = \"left\"\n",
    ")}\n",
    "hourly_data_co2[\"carbon_monoxide\"] = hourly_carbon_monoxide\n",
    "\n",
    "hourly_dataframe_co2 = pd.DataFrame(data = hourly_data_co2)\n",
    "# print(hourly_dataframe_co2)\n"
   ]
  },
  {
   "cell_type": "code",
   "execution_count": 11,
   "id": "fc095b1d",
   "metadata": {},
   "outputs": [],
   "source": [
    "url_sea_level = \"https://marine-api.open-meteo.com/v1/marine\"\n",
    "params_sea_level = {\n",
    "\t\"latitude\": 40.7143,\n",
    "\t\"longitude\": -74.006,\n",
    "\t\"hourly\": \"wave_height\",\n",
    "\t\"timezone\": \"America/New_York\",\n",
    "\t\"start_date\": \"2022-08-04\",\n",
    "\t\"end_date\": \"2024-02-15\"\n",
    "}\n",
    "responses_sea_level = openmeteo.weather_api(url_sea_level, params=params_sea_level)\n",
    "response = responses_sea_level[0]"
   ]
  },
  {
   "cell_type": "code",
   "execution_count": 12,
   "id": "fbc06af4",
   "metadata": {},
   "outputs": [],
   "source": [
    "hourly_sea_level = response.Hourly()\n",
    "hourly_wave_height = hourly_sea_level.Variables(0).ValuesAsNumpy()\n",
    "\n",
    "hourly_data_sea_level = {\"date\": pd.date_range(\n",
    "\tstart = pd.to_datetime(hourly_sea_level.Time(), unit = \"s\"),\n",
    "\tend = pd.to_datetime(hourly_sea_level.TimeEnd(), unit = \"s\"),\n",
    "\tfreq = pd.Timedelta(seconds = hourly_sea_level.Interval()),\n",
    "\tinclusive = \"left\"\n",
    ")}\n",
    "hourly_data_sea_level[\"wave_height\"] = hourly_wave_height\n",
    "\n",
    "hourly_dataframe_sea_level = pd.DataFrame(data = hourly_data_sea_level)\n",
    "# print(hourly_dataframe_sea_level)\n",
    "\n",
    "temperature_change = np.diff(daily_dataframe_climate['temperature_2m_mean'])\n",
    "\n",
    "co2_change = np.diff(hourly_dataframe_co2['carbon_monoxide'])\n"
   ]
  },
  {
   "cell_type": "code",
   "execution_count": 13,
   "id": "4186047d",
   "metadata": {},
   "outputs": [
    {
     "data": {
      "image/png": "[encoded data removed]",
      "text/plain": [
       "<Figure size 720x432 with 3 Axes>"
      ]
     },
     "metadata": {
      "needs_background": "light"
     },
     "output_type": "display_data"
    }
   ],
   "source": [
    "sea_level_change = np.diff(hourly_dataframe_sea_level['wave_height'])\n",
    "\n",
    "plt.figure(figsize=(10, 6))\n",
    "plt.subplot(3, 1, 1)\n",
    "plt.plot(daily_dataframe_climate['date'][1:], temperature_change, color='red')\n",
    "plt.title('Rate of Change for Temperatures')\n",
    "plt.ylabel('Temperature Change (Â°C/day)', fontsize = 9)\n",
    "\n",
    "plt.subplot(3, 1, 2)\n",
    "plt.plot(hourly_dataframe_co2['date'][1:], co2_change, color='green')\n",
    "plt.title('Rate of Change for CO Levels')\n",
    "plt.ylabel('CO Change (ppm/hour)', fontsize = 9)\n",
    "\n",
    "plt.subplot(3, 1, 3)\n",
    "plt.plot(hourly_dataframe_sea_level['date'][1:], sea_level_change, color='blue')\n",
    "plt.title('Rate of Change for Sea Levels')\n",
    "plt.ylabel('Sea Level Change (m/hour)', fontsize = 9)\n",
    "\n",
    "plt.xlabel('Date')\n",
    "plt.tight_layout()\n",
    "plt.show()"
   ]
  },
  {
   "cell_type": "code",
   "execution_count": 14,
   "id": "17327fd6",
   "metadata": {},
   "outputs": [
    {
     "name": "stdout",
     "output_type": "stream",
     "text": [
      "Correlation between CO emission levels and global temperature changes: -0.0004610826090966426\n"
     ]
    }
   ],
   "source": [
    "hourly_dataframe_co2['date'] = pd.to_datetime(hourly_dataframe_co2['date'])\n",
    "daily_co2 = hourly_dataframe_co2.groupby(hourly_dataframe_co2['date'].dt.date).mean().reset_index()\n",
    "\n",
    "temperature_change = np.diff(daily_dataframe_climate['temperature_2m_mean'])\n",
    "\n",
    "co2_change = np.diff(daily_co2['carbon_monoxide'])\n",
    "co2_change = co2_change[:-1]\n",
    "\n",
    "correlation = np.corrcoef(co2_change, temperature_change)[0, 1]\n",
    "print(\"Correlation between CO emission levels and global temperature changes:\", correlation)\n",
    "\n",
    "daily_dataframe_climate['year'] = daily_dataframe_climate['date'].dt.year\n",
    "mean_temp_by_year = daily_dataframe_climate.groupby('year')['temperature_2m_mean'].mean()\n",
    "yearly_change = mean_temp_by_year.diff()"
   ]
  },
  {
   "cell_type": "code",
   "execution_count": 15,
   "id": "9c6df271",
   "metadata": {},
   "outputs": [
    {
     "data": {
      "image/png": "[encoded data removed]",
      "text/plain": [
       "<Figure size 720x432 with 1 Axes>"
      ]
     },
     "metadata": {
      "needs_background": "light"
     },
     "output_type": "display_data"
    }
   ],
   "source": [
    "plt.figure(figsize=(10, 6))\n",
    "plt.plot(yearly_change.index[1:], yearly_change.values[1:], marker='o', color='red')\n",
    "plt.title('Year-over-Year Temperature Change')\n",
    "plt.xlabel('Year')\n",
    "plt.ylabel('Temperature Change (Â°C)')\n",
    "plt.grid(True)\n",
    "plt.show()"
   ]
  },
  {
   "cell_type": "code",
   "execution_count": 16,
   "id": "126bce2a",
   "metadata": {},
   "outputs": [
    {
     "data": {
      "text/html": [
       "<div style=\"width:100%;\"><div style=\"position:relative;width:100%;height:0;padding-bottom:60%;\"><span style=\"color:#565656\">Make this Notebook Trusted to load map: File -> Trust Notebook</span><iframe srcdoc=\"&lt;!DOCTYPE html&gt;\n",
       "&lt;html&gt;\n",
       "&lt;head&gt;\n",
       "    \n",
       "    &lt;meta http-equiv=&quot;content-type&quot; content=&quot;text/html; charset=UTF-8&quot; /&gt;\n",
       "    \n",
       "        &lt;script&gt;\n",
       "            L_NO_TOUCH = false;\n",
       "            L_DISABLE_3D = false;\n",
       "        &lt;/script&gt;\n",
       "    \n",
       "    &lt;style&gt;html, body {width: 100%;height: 100%;margin: 0;padding: 0;}&lt;/style&gt;\n",
       "    &lt;style&gt;#map {position:absolute;top:0;bottom:0;right:0;left:0;}&lt;/style&gt;\n",
       "    &lt;script src=&quot;https://cdn.jsdelivr.net/npm/leaflet@1.9.3/dist/leaflet.js&quot;&gt;&lt;/script&gt;\n",
       "    &lt;script src=&quot;https://code.jquery.com/jquery-3.7.1.min.js&quot;&gt;&lt;/script&gt;\n",
       "    &lt;script src=&quot;https://cdn.jsdelivr.net/npm/bootstrap@5.2.2/dist/js/bootstrap.bundle.min.js&quot;&gt;&lt;/script&gt;\n",
       "    &lt;script src=&quot;https://cdnjs.cloudflare.com/ajax/libs/Leaflet.awesome-markers/2.0.2/leaflet.awesome-markers.js&quot;&gt;&lt;/script&gt;\n",
       "    &lt;link rel=&quot;stylesheet&quot; href=&quot;https://cdn.jsdelivr.net/npm/leaflet@1.9.3/dist/leaflet.css&quot;/&gt;\n",
       "    &lt;link rel=&quot;stylesheet&quot; href=&quot;https://cdn.jsdelivr.net/npm/bootstrap@5.2.2/dist/css/bootstrap.min.css&quot;/&gt;\n",
       "    &lt;link rel=&quot;stylesheet&quot; href=&quot;https://netdna.bootstrapcdn.com/bootstrap/3.0.0/css/bootstrap.min.css&quot;/&gt;\n",
       "    &lt;link rel=&quot;stylesheet&quot; href=&quot;https://cdn.jsdelivr.net/npm/@fortawesome/fontawesome-free@6.2.0/css/all.min.css&quot;/&gt;\n",
       "    &lt;link rel=&quot;stylesheet&quot; href=&quot;https://cdnjs.cloudflare.com/ajax/libs/Leaflet.awesome-markers/2.0.2/leaflet.awesome-markers.css&quot;/&gt;\n",
       "    &lt;link rel=&quot;stylesheet&quot; href=&quot;https://cdn.jsdelivr.net/gh/python-visualization/folium/folium/templates/leaflet.awesome.rotate.min.css&quot;/&gt;\n",
       "    \n",
       "            &lt;meta name=&quot;viewport&quot; content=&quot;width=device-width,\n",
       "                initial-scale=1.0, maximum-scale=1.0, user-scalable=no&quot; /&gt;\n",
       "            &lt;style&gt;\n",
       "                #map_bc7beaa329bcaaa15329df40ccb1d984 {\n",
       "                    position: relative;\n",
       "                    width: 100.0%;\n",
       "                    height: 100.0%;\n",
       "                    left: 0.0%;\n",
       "                    top: 0.0%;\n",
       "                }\n",
       "                .leaflet-container { font-size: 1rem; }\n",
       "            &lt;/style&gt;\n",
       "        \n",
       "&lt;/head&gt;\n",
       "&lt;body&gt;\n",
       "    \n",
       "    \n",
       "            &lt;div class=&quot;folium-map&quot; id=&quot;map_bc7beaa329bcaaa15329df40ccb1d984&quot; &gt;&lt;/div&gt;\n",
       "        \n",
       "&lt;/body&gt;\n",
       "&lt;script&gt;\n",
       "    \n",
       "    \n",
       "            var map_bc7beaa329bcaaa15329df40ccb1d984 = L.map(\n",
       "                &quot;map_bc7beaa329bcaaa15329df40ccb1d984&quot;,\n",
       "                {\n",
       "                    center: [40.7143, -74.006],\n",
       "                    crs: L.CRS.EPSG3857,\n",
       "                    zoom: 10,\n",
       "                    zoomControl: true,\n",
       "                    preferCanvas: false,\n",
       "                }\n",
       "            );\n",
       "\n",
       "            \n",
       "\n",
       "        \n",
       "    \n",
       "            var tile_layer_43a3dc254aa3e82ebf531b70227c1a30 = L.tileLayer(\n",
       "                &quot;https://tile.openstreetmap.org/{z}/{x}/{y}.png&quot;,\n",
       "                {&quot;attribution&quot;: &quot;\\u0026copy; \\u003ca href=\\&quot;https://www.openstreetmap.org/copyright\\&quot;\\u003eOpenStreetMap\\u003c/a\\u003e contributors&quot;, &quot;detectRetina&quot;: false, &quot;maxNativeZoom&quot;: 19, &quot;maxZoom&quot;: 19, &quot;minZoom&quot;: 0, &quot;noWrap&quot;: false, &quot;opacity&quot;: 1, &quot;subdomains&quot;: &quot;abc&quot;, &quot;tms&quot;: false}\n",
       "            );\n",
       "        \n",
       "    \n",
       "            tile_layer_43a3dc254aa3e82ebf531b70227c1a30.addTo(map_bc7beaa329bcaaa15329df40ccb1d984);\n",
       "        \n",
       "    \n",
       "            var marker_b119eabb1485b244268d2aa966dac5e5 = L.marker(\n",
       "                [40.7143, -74.006],\n",
       "                {}\n",
       "            ).addTo(map_bc7beaa329bcaaa15329df40ccb1d984);\n",
       "        \n",
       "    \n",
       "        var popup_992719cdd9e905b19931ebf2582e7e13 = L.popup({&quot;maxWidth&quot;: &quot;100%&quot;});\n",
       "\n",
       "        \n",
       "            \n",
       "                var html_c0e3e9f3b714e37845512764596ed4af = $(`&lt;div id=&quot;html_c0e3e9f3b714e37845512764596ed4af&quot; style=&quot;width: 100.0%; height: 100.0%;&quot;&gt;New York City - High Temperature Change&lt;/div&gt;`)[0];\n",
       "                popup_992719cdd9e905b19931ebf2582e7e13.setContent(html_c0e3e9f3b714e37845512764596ed4af);\n",
       "            \n",
       "        \n",
       "\n",
       "        marker_b119eabb1485b244268d2aa966dac5e5.bindPopup(popup_992719cdd9e905b19931ebf2582e7e13)\n",
       "        ;\n",
       "\n",
       "        \n",
       "    \n",
       "    \n",
       "            var marker_1915c9e292aa62a97950100c80c52fea = L.marker(\n",
       "                [41.8781, -87.6298],\n",
       "                {}\n",
       "            ).addTo(map_bc7beaa329bcaaa15329df40ccb1d984);\n",
       "        \n",
       "    \n",
       "        var popup_dcf45091ace9c2da2d8e5bb4835b80c7 = L.popup({&quot;maxWidth&quot;: &quot;100%&quot;});\n",
       "\n",
       "        \n",
       "            \n",
       "                var html_f758902a877ea604953b1a807b2499fd = $(`&lt;div id=&quot;html_f758902a877ea604953b1a807b2499fd&quot; style=&quot;width: 100.0%; height: 100.0%;&quot;&gt;Chicago - Moderate Temperature Change&lt;/div&gt;`)[0];\n",
       "                popup_dcf45091ace9c2da2d8e5bb4835b80c7.setContent(html_f758902a877ea604953b1a807b2499fd);\n",
       "            \n",
       "        \n",
       "\n",
       "        marker_1915c9e292aa62a97950100c80c52fea.bindPopup(popup_dcf45091ace9c2da2d8e5bb4835b80c7)\n",
       "        ;\n",
       "\n",
       "        \n",
       "    \n",
       "    \n",
       "            var marker_7e7f41873ae66455d489906181ce57ef = L.marker(\n",
       "                [34.0522, -118.2437],\n",
       "                {}\n",
       "            ).addTo(map_bc7beaa329bcaaa15329df40ccb1d984);\n",
       "        \n",
       "    \n",
       "        var popup_4ab6614695571b21f3dbfc66fdab0768 = L.popup({&quot;maxWidth&quot;: &quot;100%&quot;});\n",
       "\n",
       "        \n",
       "            \n",
       "                var html_32ab3d9e314f6edac1d9916f923ae2d0 = $(`&lt;div id=&quot;html_32ab3d9e314f6edac1d9916f923ae2d0&quot; style=&quot;width: 100.0%; height: 100.0%;&quot;&gt;Los Angeles - Low Temperature Change&lt;/div&gt;`)[0];\n",
       "                popup_4ab6614695571b21f3dbfc66fdab0768.setContent(html_32ab3d9e314f6edac1d9916f923ae2d0);\n",
       "            \n",
       "        \n",
       "\n",
       "        marker_7e7f41873ae66455d489906181ce57ef.bindPopup(popup_4ab6614695571b21f3dbfc66fdab0768)\n",
       "        ;\n",
       "\n",
       "        \n",
       "    \n",
       "&lt;/script&gt;\n",
       "&lt;/html&gt;\" style=\"position:absolute;width:100%;height:100%;left:0;top:0;border:none !important;\" allowfullscreen webkitallowfullscreen mozallowfullscreen></iframe></div></div>"
      ],
      "text/plain": [
       "<folium.folium.Map at 0x272520ff8e0>"
      ]
     },
     "execution_count": 16,
     "metadata": {},
     "output_type": "execute_result"
    }
   ],
   "source": [
    "map_climate_impacts = folium.Map(location=[40.7143, -74.006], zoom_start=10)\n",
    "\n",
    "folium.Marker(location=[40.7143, -74.006], popup='New York City - High Temperature Change').add_to(map_climate_impacts)\n",
    "folium.Marker(location=[41.8781, -87.6298], popup='Chicago - Moderate Temperature Change').add_to(map_climate_impacts)\n",
    "folium.Marker(location=[34.0522, -118.2437], popup='Los Angeles - Low Temperature Change').add_to(map_climate_impacts)\n",
    "\n",
    "map_climate_impacts"
   ]
  },
  {
   "cell_type": "markdown",
   "id": "3f3879aa",
   "metadata": {},
   "source": [
    "# GUI"
   ]
  },
  {
   "cell_type": "code",
   "execution_count": 17,
   "id": "a7c37090",
   "metadata": {},
   "outputs": [
    {
     "name": "stdout",
     "output_type": "stream",
     "text": [
      "Defaulting to user installation because normal site-packages is not writeable\n",
      "Requirement already satisfied: PyQt5 in c:\\users\\manik\\appdata\\roaming\\python\\python39\\site-packages (5.15.10)\n",
      "Requirement already satisfied: PyQt5-sip<13,>=12.13 in c:\\users\\manik\\appdata\\roaming\\python\\python39\\site-packages (from PyQt5) (12.13.0)\n",
      "Requirement already satisfied: PyQt5-Qt5>=5.15.2 in c:\\users\\manik\\appdata\\roaming\\python\\python39\\site-packages (from PyQt5) (5.15.2)\n",
      "Note: you may need to restart the kernel to use updated packages.\n"
     ]
    }
   ],
   "source": [
    "pip install PyQt5"
   ]
  },
  {
   "cell_type": "code",
   "execution_count": 18,
   "id": "ac3b28fc",
   "metadata": {},
   "outputs": [],
   "source": [
    "from PySide2 import QtWidgets"
   ]
  },
  {
   "cell_type": "code",
   "execution_count": 19,
   "id": "12dba0ba",
   "metadata": {},
   "outputs": [],
   "source": [
    "class Ui_MainWindow(object):\n",
    "    def setupUi(self, MainWindow):\n",
    "        MainWindow.setObjectName(\"MainWindow\")\n",
    "        MainWindow.resize(741, 402)\n",
    "        self.centralwidget = QtWidgets.QWidget(MainWindow)\n",
    "        self.centralwidget.setObjectName(\"centralwidget\")\n",
    "        self.tempBtn = QtWidgets.QPushButton(self.centralwidget)\n",
    "        self.tempBtn.setGeometry(QtCore.QRect(20, 60, 241, 31))\n",
    "        font = QtGui.QFont()\n",
    "        font.setFamily(\"Century Gothic\")\n",
    "        font.setPointSize(10)\n",
    "        self.tempBtn.setFont(font)\n",
    "        self.tempBtn.setAutoFillBackground(False)\n",
    "        self.tempBtn.setObjectName(\"tempBtn\")\n",
    "        self.co2Btn = QtWidgets.QPushButton(self.centralwidget)\n",
    "        self.co2Btn.setGeometry(QtCore.QRect(20, 140, 241, 31))\n",
    "        font = QtGui.QFont()\n",
    "        font.setFamily(\"Century Gothic\")\n",
    "        font.setPointSize(10)\n",
    "        self.co2Btn.setFont(font)\n",
    "        self.co2Btn.setObjectName(\"co2Btn\")\n",
    "        self.seaBtn = QtWidgets.QPushButton(self.centralwidget)\n",
    "        self.seaBtn.setGeometry(QtCore.QRect(20, 100, 241, 31))\n",
    "        font = QtGui.QFont()\n",
    "        font.setFamily(\"Century Gothic\")\n",
    "        font.setPointSize(10)\n",
    "        self.seaBtn.setFont(font)\n",
    "        self.seaBtn.setObjectName(\"seaBtn\")\n",
    "        self.label = QtWidgets.QLabel(self.centralwidget)\n",
    "        self.label.setGeometry(QtCore.QRect(20, 10, 261, 41))\n",
    "        font = QtGui.QFont()\n",
    "        font.setFamily(\"Century Gothic\")\n",
    "        font.setPointSize(18)\n",
    "        font.setBold(True)\n",
    "        font.setWeight(75)\n",
    "        self.label.setFont(font)\n",
    "        self.label.setFrameShape(QtWidgets.QFrame.NoFrame)\n",
    "        self.label.setObjectName(\"label\")\n",
    "        self.outputLabel = QtWidgets.QLabel(self.centralwidget)\n",
    "        self.outputLabel.setGeometry(QtCore.QRect(290, 10, 441, 371))\n",
    "        self.outputLabel.setFrameShape(QtWidgets.QFrame.Box)\n",
    "        self.outputLabel.setText(\"\")\n",
    "        self.outputLabel.setObjectName(\"outputLabel\")\n",
    "        self.outputLabel.setFont(font)\n",
    "        font = QtGui.QFont()\n",
    "        font.setFamily(\"Century Gothic\")\n",
    "        font.setPointSize(13)\n",
    "        font.setBold(True)\n",
    "        font.setWeight(75)\n",
    "        self.correlationBtn = QtWidgets.QPushButton(self.centralwidget)\n",
    "        self.correlationBtn.setGeometry(QtCore.QRect(20, 210, 241, 41))\n",
    "        sizePolicy = QtWidgets.QSizePolicy(QtWidgets.QSizePolicy.Minimum, QtWidgets.QSizePolicy.Fixed)\n",
    "        sizePolicy.setHorizontalStretch(0)\n",
    "        sizePolicy.setVerticalStretch(0)\n",
    "        sizePolicy.setHeightForWidth(self.correlationBtn.sizePolicy().hasHeightForWidth())\n",
    "        self.correlationBtn.setSizePolicy(sizePolicy)\n",
    "        font = QtGui.QFont()\n",
    "        font.setFamily(\"Century Gothic\")\n",
    "        font.setPointSize(10)\n",
    "        self.correlationBtn.setFont(font)\n",
    "        self.correlationBtn.setObjectName(\"correlationBtn\")\n",
    "        self.label_2 = QtWidgets.QLabel(self.centralwidget)\n",
    "        self.label_2.setGeometry(QtCore.QRect(20, 180, 241, 16))\n",
    "        self.label_2.setFrameShape(QtWidgets.QFrame.HLine)\n",
    "        self.label_2.setFrameShadow(QtWidgets.QFrame.Plain)\n",
    "        self.label_2.setText(\"\")\n",
    "        self.label_2.setObjectName(\"label_2\")\n",
    "        self.yearoverBtn = QtWidgets.QPushButton(self.centralwidget)\n",
    "        self.yearoverBtn.setGeometry(QtCore.QRect(20, 260, 241, 41))\n",
    "        sizePolicy = QtWidgets.QSizePolicy(QtWidgets.QSizePolicy.Minimum, QtWidgets.QSizePolicy.Fixed)\n",
    "        sizePolicy.setHorizontalStretch(0)\n",
    "        sizePolicy.setVerticalStretch(0)\n",
    "        sizePolicy.setHeightForWidth(self.yearoverBtn.sizePolicy().hasHeightForWidth())\n",
    "        self.yearoverBtn.setSizePolicy(sizePolicy)\n",
    "        font = QtGui.QFont()\n",
    "        font.setFamily(\"Century Gothic\")\n",
    "        font.setPointSize(10)\n",
    "        self.yearoverBtn.setFont(font)\n",
    "        self.yearoverBtn.setObjectName(\"yearoverBtn\")\n",
    "        self.label_3 = QtWidgets.QLabel(self.centralwidget)\n",
    "        self.label_3.setGeometry(QtCore.QRect(30, 360, 231, 16))\n",
    "        font = QtGui.QFont()\n",
    "        font.setFamily(\"Century Gothic\")\n",
    "        font.setPointSize(10)\n",
    "        self.label_3.setFont(font)\n",
    "        self.label_3.setObjectName(\"label_3\")\n",
    "        self.mapView = QtWebEngineWidgets.QWebEngineView(self.centralwidget)\n",
    "        self.mapView.setGeometry(QtCore.QRect(290, 10, 441, 371))\n",
    "        self.mapView.setUrl(QtCore.QUrl(\"about:blank\"))\n",
    "        self.mapView.setObjectName(\"mapView\")\n",
    "        self.mapBtn = QtWidgets.QPushButton(self.centralwidget)\n",
    "        self.mapBtn.setGeometry(QtCore.QRect(20, 310, 241, 41))\n",
    "        sizePolicy = QtWidgets.QSizePolicy(QtWidgets.QSizePolicy.Minimum, QtWidgets.QSizePolicy.Fixed)\n",
    "        sizePolicy.setHorizontalStretch(0)\n",
    "        sizePolicy.setVerticalStretch(0)\n",
    "        sizePolicy.setHeightForWidth(self.mapBtn.sizePolicy().hasHeightForWidth())\n",
    "        self.mapBtn.setSizePolicy(sizePolicy)\n",
    "        font = QtGui.QFont()\n",
    "        font.setFamily(\"Century Gothic\")\n",
    "        font.setPointSize(10)\n",
    "        self.mapBtn.setFont(font)\n",
    "        self.mapBtn.setObjectName(\"mapBtn\")\n",
    "        MainWindow.setCentralWidget(self.centralwidget)\n",
    "        self.statusbar = QtWidgets.QStatusBar(MainWindow)\n",
    "        self.statusbar.setObjectName(\"statusbar\")\n",
    "        MainWindow.setStatusBar(self.statusbar)\n",
    "\n",
    "        self.retranslateUi(MainWindow)\n",
    "        QtCore.QMetaObject.connectSlotsByName(MainWindow)\n",
    "        \n",
    "        self.tempBtn.clicked.connect(self.tempFunc)\n",
    "        self.seaBtn.clicked.connect(self.seaFunc)\n",
    "        self.co2Btn.clicked.connect(self.co2Func)\n",
    "        self.correlationBtn.clicked.connect(self.correlationFunc)\n",
    "        self.yearoverBtn.clicked.connect(self.yearoverFunc)\n",
    "        self.mapBtn.clicked.connect(self.mapFunc)"
   ]
  },
  {
   "cell_type": "code",
   "execution_count": 20,
   "id": "998f060c",
   "metadata": {},
   "outputs": [],
   "source": [
    "def retranslateUi(self, MainWindow):\n",
    "        _translate = QtCore.QCoreApplication.translate\n",
    "        MainWindow.setWindowTitle(_translate(\"MainWindow\", \"Factors of Climate Change Using Python\"))\n",
    "        self.tempBtn.setText(_translate(\"MainWindow\", \"Temperature\"))\n",
    "        self.co2Btn.setText(_translate(\"MainWindow\", \"Carbon Dioxide\"))\n",
    "        self.seaBtn.setText(_translate(\"MainWindow\", \"Sea Level\"))\n",
    "        self.label.setText(_translate(\"MainWindow\", \"Rate of Change of :\"))\n",
    "        self.correlationBtn.setText(_translate(\"MainWindow\", \"Correlation : CO2 / Temperature\"))\n",
    "        self.yearoverBtn.setText(_translate(\"MainWindow\", \"Year over Year Comparision\"))\n",
    "        self.label_3.setText(_translate(\"MainWindow\", \"- By Aryan Mishra\"))\n",
    "        self.mapBtn.setText(_translate(\"MainWindow\", \"Climate Change Map\"))\n",
    "        self.outputLabel.setAlignment(QtCore.Qt.AlignCenter)\n",
    "        self.mapView.hide()"
   ]
  },
  {
   "cell_type": "code",
   "execution_count": 21,
   "id": "f211cdd6",
   "metadata": {},
   "outputs": [],
   "source": [
    " def tempFunc(self):\n",
    "        self.mapView.hide()\n",
    "        pixmap = QtGui.QPixmap(\"D:/Excel Stuff/Hackathon/Day_4/tempGraph.png\") # Setup pixmap with the provided image\n",
    "        pixmap = pixmap.scaled(self.outputLabel.width(), self.outputLabel.height(), QtCore.Qt.KeepAspectRatio) # Scale pixmap\n",
    "        self.outputLabel.setPixmap(pixmap) # Set the pixmap onto the label\n",
    "        self.outputLabel.setPixmap(pixmap) "
   ]
  },
  {
   "cell_type": "code",
   "execution_count": 22,
   "id": "20cf2aa8",
   "metadata": {},
   "outputs": [],
   "source": [
    "def co2Func(self):\n",
    "        self.mapView.hide()\n",
    "        pixmap = QtGui.QPixmap(\"D:\\Excel Stuff\\Hackathon\\Day_4\\co2Graph.png\") # Setup pixmap with the provided image\n",
    "        pixmap = pixmap.scaled(self.outputLabel.width(), self.outputLabel.height(), QtCore.Qt.KeepAspectRatio) # Scale pixmap\n",
    "        self.outputLabel.setPixmap(pixmap) # Set the pixmap onto the label\n",
    "        self.outputLabel.setPixmap(pixmap) "
   ]
  },
  {
   "cell_type": "code",
   "execution_count": 23,
   "id": "20fd4a1d",
   "metadata": {},
   "outputs": [],
   "source": [
    " def seaFunc(self):\n",
    "        self.mapView.hide()\n",
    "        pixmap = QtGui.QPixmap(\"D:\\Excel Stuff\\Hackathon\\Day_4\\seaGraph.png\") # Setup pixmap with the provided image\n",
    "        pixmap = pixmap.scaled(self.outputLabel.width(), self.outputLabel.height(), QtCore.Qt.KeepAspectRatio) # Scale pixmap\n",
    "        self.outputLabel.setPixmap(pixmap) # Set the pixmap onto the label\n",
    "        self.outputLabel.setPixmap(pixmap)"
   ]
  },
  {
   "cell_type": "code",
   "execution_count": 24,
   "id": "3fba86bb",
   "metadata": {},
   "outputs": [],
   "source": [
    "def correlationFunc(self):\n",
    "        self.mapView.hide()\n",
    "        self.outputLabel.setText(\"Correlation between\\nCO emission levels\\nand global temperature changes:\\n{}\".format(mainfile.correlation))"
   ]
  },
  {
   "cell_type": "code",
   "execution_count": 25,
   "id": "e0a97f1d",
   "metadata": {},
   "outputs": [],
   "source": [
    "def yearoverFunc(self):\n",
    "        self.mapView.hide()\n",
    "        pixmap = QtGui.QPixmap(\"D:\\Excel Stuff\\Hackathon\\Day_4\\yearoveryear.png\") # Setup pixmap with the provided image\n",
    "        pixmap = pixmap.scaled(self.outputLabel.width(), self.outputLabel.height(), QtCore.Qt.KeepAspectRatio) # Scale pixmap\n",
    "        self.outputLabel.setPixmap(pixmap) # Set the pixmap onto the label\n",
    "        self.outputLabel.setPixmap(pixmap) "
   ]
  },
  {
   "cell_type": "code",
   "execution_count": 26,
   "id": "d4ed34ad",
   "metadata": {},
   "outputs": [],
   "source": [
    "def mapFunc(self):\n",
    "        self.mapView.setHtml(mainfile.map_climate_impacts.get_root().render())\n",
    "        self.mapView.show()"
   ]
  },
  {
   "cell_type": "code",
   "execution_count": null,
   "id": "914f8503",
   "metadata": {},
   "outputs": [],
   "source": [
    "if __name__ == \"__main__\":\n",
    "    import sys\n",
    "    app = QtWidgets.QApplication(sys.argv)\n",
    "    MainWindow = QtWidgets.QMainWindow()\n",
    "    ui = Ui_MainWindow()\n",
    "    ui.setupUi(MainWindow)\n",
    "    MainWindow.show()\n",
    "    sys.exit(app.exec_())"
   ]
  },
  {
   "cell_type": "code",
   "execution_count": null,
   "id": "4ddc277e",
   "metadata": {},
   "outputs": [],
   "source": []
  }
 ],
 "metadata": {
  "kernelspec": {
   "display_name": "Python 3 (ipykernel)",
   "language": "python",
   "name": "python3"
  },
  "language_info": {
   "codemirror_mode": {
    "name": "ipython",
    "version": 3
   },
   "file_extension": ".py",
   "mimetype": "text/x-python",
   "name": "python",
   "nbconvert_exporter": "python",
   "pygments_lexer": "ipython3",
   "version": "3.9.12"
  }
 },
 "nbformat": 4,
 "nbformat_minor": 5
}
